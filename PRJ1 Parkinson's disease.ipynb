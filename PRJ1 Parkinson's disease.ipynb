{
 "cells": [
  {
   "cell_type": "code",
   "execution_count": 181,
   "id": "f519ea33",
   "metadata": {},
   "outputs": [
    {
     "data": {
      "text/plain": [
       "'\\n1.Importing Libraries\\n2.Importing Dataset\\n3.Visualising Dataset\\n4.Preprocessing dataset\\n5.Dimensionality Reduction of Dataset i.e., PCA technique\\n6.Applying all classification Algorithms before and after feature scaling including\\n  i)   Logistic Regression\\n  ii)  Desicion Trees Classifier\\n  iii) Naive Bayes Classifier\\n  iv)  Support Vector Machines\\n  v) KNN Classifier\\n7. Comparing their accuracy, confusion matrix and classification report before and after feature scaling and visualising it\\n8. Applying all ensembled learning classification algorithms and comparing them including\\n  i)  Random Forest Classifier\\n  ii) Ada Boost Classifier\\n  ii) Extra Trees Classifier\\n9. Choosing best algorihtm among all algorithms and creating its model\\n10. Finalizing predictions result and storing it with main dataset.\\n'"
      ]
     },
     "execution_count": 181,
     "metadata": {},
     "output_type": "execute_result"
    }
   ],
   "source": [
    "### NAME :- Rishabh \n",
    "### Batch :- Dec, Data Science 2022\n",
    "### CONTENT :-\n",
    "'''\n",
    "1.Importing Libraries\n",
    "2.Importing Dataset\n",
    "3.Visualising Dataset\n",
    "4.Preprocessing dataset\n",
    "5.Dimensionality Reduction of Dataset i.e., PCA technique\n",
    "6.Applying all classification Algorithms before and after feature scaling including\n",
    "  i)   Logistic Regression\n",
    "  ii)  Desicion Trees Classifier\n",
    "  iii) Naive Bayes Classifier\n",
    "  iv)  Support Vector Machines\n",
    "  v) KNN Classifier\n",
    "7. Comparing their accuracy, confusion matrix and classification report before and after feature scaling and visualising it\n",
    "8. Applying all ensembled learning classification algorithms and comparing them including\n",
    "  i)  Random Forest Classifier\n",
    "  ii) Ada Boost Classifier\n",
    "  ii) Extra Trees Classifier\n",
    "9. Choosing best algorihtm among all algorithms and creating its model\n",
    "10. Finalizing predictions result and storing it with main dataset.\n",
    "'''"
   ]
  },
  {
   "cell_type": "code",
   "execution_count": 182,
   "id": "b7d722ac",
   "metadata": {},
   "outputs": [],
   "source": [
    "#importing libraries\n",
    "import pandas as pd\n",
    "import numpy as np\n",
    "import matplotlib.pyplot as plt\n",
    "import seaborn as sns\n",
    "import os\n",
    "import warnings\n",
    "warnings.filterwarnings('ignore')"
   ]
  },
  {
   "cell_type": "code",
   "execution_count": 183,
   "id": "d6851372",
   "metadata": {},
   "outputs": [
    {
     "data": {
      "text/plain": [
       "'C:\\\\Users\\\\HP\\\\Desktop\\\\files'"
      ]
     },
     "execution_count": 183,
     "metadata": {},
     "output_type": "execute_result"
    }
   ],
   "source": [
    "os.getcwd()"
   ]
  },
  {
   "cell_type": "code",
   "execution_count": 184,
   "id": "76475072",
   "metadata": {},
   "outputs": [],
   "source": [
    "os.chdir('C:\\\\Users\\\\HP\\\\Desktop\\\\files\\\\')"
   ]
  },
  {
   "cell_type": "code",
   "execution_count": 185,
   "id": "acf5b0f3",
   "metadata": {},
   "outputs": [
    {
     "data": {
      "text/plain": [
       "'C:\\\\Users\\\\HP\\\\Desktop\\\\files'"
      ]
     },
     "execution_count": 185,
     "metadata": {},
     "output_type": "execute_result"
    }
   ],
   "source": [
    "#changing current dircetory\n",
    "os.getcwd()"
   ]
  },
  {
   "cell_type": "code",
   "execution_count": 186,
   "id": "6025c4f3",
   "metadata": {},
   "outputs": [],
   "source": [
    "#importing data\n",
    "data = pd.read_csv('Parkinsons.data')"
   ]
  },
  {
   "cell_type": "code",
   "execution_count": 187,
   "id": "0b1c84ef",
   "metadata": {},
   "outputs": [
    {
     "data": {
      "text/html": [
       "<div>\n",
       "<style scoped>\n",
       "    .dataframe tbody tr th:only-of-type {\n",
       "        vertical-align: middle;\n",
       "    }\n",
       "\n",
       "    .dataframe tbody tr th {\n",
       "        vertical-align: top;\n",
       "    }\n",
       "\n",
       "    .dataframe thead th {\n",
       "        text-align: right;\n",
       "    }\n",
       "</style>\n",
       "<table border=\"1\" class=\"dataframe\">\n",
       "  <thead>\n",
       "    <tr style=\"text-align: right;\">\n",
       "      <th></th>\n",
       "      <th>name</th>\n",
       "      <th>MDVP:Fo(Hz)</th>\n",
       "      <th>MDVP:Fhi(Hz)</th>\n",
       "      <th>MDVP:Flo(Hz)</th>\n",
       "      <th>MDVP:Jitter(%)</th>\n",
       "      <th>MDVP:Jitter(Abs)</th>\n",
       "      <th>MDVP:RAP</th>\n",
       "      <th>MDVP:PPQ</th>\n",
       "      <th>Jitter:DDP</th>\n",
       "      <th>MDVP:Shimmer</th>\n",
       "      <th>...</th>\n",
       "      <th>Shimmer:DDA</th>\n",
       "      <th>NHR</th>\n",
       "      <th>HNR</th>\n",
       "      <th>status</th>\n",
       "      <th>RPDE</th>\n",
       "      <th>DFA</th>\n",
       "      <th>spread1</th>\n",
       "      <th>spread2</th>\n",
       "      <th>D2</th>\n",
       "      <th>PPE</th>\n",
       "    </tr>\n",
       "  </thead>\n",
       "  <tbody>\n",
       "    <tr>\n",
       "      <th>0</th>\n",
       "      <td>phon_R01_S01_1</td>\n",
       "      <td>119.992</td>\n",
       "      <td>157.302</td>\n",
       "      <td>74.997</td>\n",
       "      <td>0.00784</td>\n",
       "      <td>0.00007</td>\n",
       "      <td>0.00370</td>\n",
       "      <td>0.00554</td>\n",
       "      <td>0.01109</td>\n",
       "      <td>0.04374</td>\n",
       "      <td>...</td>\n",
       "      <td>0.06545</td>\n",
       "      <td>0.02211</td>\n",
       "      <td>21.033</td>\n",
       "      <td>1</td>\n",
       "      <td>0.414783</td>\n",
       "      <td>0.815285</td>\n",
       "      <td>-4.813031</td>\n",
       "      <td>0.266482</td>\n",
       "      <td>2.301442</td>\n",
       "      <td>0.284654</td>\n",
       "    </tr>\n",
       "    <tr>\n",
       "      <th>1</th>\n",
       "      <td>phon_R01_S01_2</td>\n",
       "      <td>122.400</td>\n",
       "      <td>148.650</td>\n",
       "      <td>113.819</td>\n",
       "      <td>0.00968</td>\n",
       "      <td>0.00008</td>\n",
       "      <td>0.00465</td>\n",
       "      <td>0.00696</td>\n",
       "      <td>0.01394</td>\n",
       "      <td>0.06134</td>\n",
       "      <td>...</td>\n",
       "      <td>0.09403</td>\n",
       "      <td>0.01929</td>\n",
       "      <td>19.085</td>\n",
       "      <td>1</td>\n",
       "      <td>0.458359</td>\n",
       "      <td>0.819521</td>\n",
       "      <td>-4.075192</td>\n",
       "      <td>0.335590</td>\n",
       "      <td>2.486855</td>\n",
       "      <td>0.368674</td>\n",
       "    </tr>\n",
       "    <tr>\n",
       "      <th>2</th>\n",
       "      <td>phon_R01_S01_3</td>\n",
       "      <td>116.682</td>\n",
       "      <td>131.111</td>\n",
       "      <td>111.555</td>\n",
       "      <td>0.01050</td>\n",
       "      <td>0.00009</td>\n",
       "      <td>0.00544</td>\n",
       "      <td>0.00781</td>\n",
       "      <td>0.01633</td>\n",
       "      <td>0.05233</td>\n",
       "      <td>...</td>\n",
       "      <td>0.08270</td>\n",
       "      <td>0.01309</td>\n",
       "      <td>20.651</td>\n",
       "      <td>1</td>\n",
       "      <td>0.429895</td>\n",
       "      <td>0.825288</td>\n",
       "      <td>-4.443179</td>\n",
       "      <td>0.311173</td>\n",
       "      <td>2.342259</td>\n",
       "      <td>0.332634</td>\n",
       "    </tr>\n",
       "    <tr>\n",
       "      <th>3</th>\n",
       "      <td>phon_R01_S01_4</td>\n",
       "      <td>116.676</td>\n",
       "      <td>137.871</td>\n",
       "      <td>111.366</td>\n",
       "      <td>0.00997</td>\n",
       "      <td>0.00009</td>\n",
       "      <td>0.00502</td>\n",
       "      <td>0.00698</td>\n",
       "      <td>0.01505</td>\n",
       "      <td>0.05492</td>\n",
       "      <td>...</td>\n",
       "      <td>0.08771</td>\n",
       "      <td>0.01353</td>\n",
       "      <td>20.644</td>\n",
       "      <td>1</td>\n",
       "      <td>0.434969</td>\n",
       "      <td>0.819235</td>\n",
       "      <td>-4.117501</td>\n",
       "      <td>0.334147</td>\n",
       "      <td>2.405554</td>\n",
       "      <td>0.368975</td>\n",
       "    </tr>\n",
       "    <tr>\n",
       "      <th>4</th>\n",
       "      <td>phon_R01_S01_5</td>\n",
       "      <td>116.014</td>\n",
       "      <td>141.781</td>\n",
       "      <td>110.655</td>\n",
       "      <td>0.01284</td>\n",
       "      <td>0.00011</td>\n",
       "      <td>0.00655</td>\n",
       "      <td>0.00908</td>\n",
       "      <td>0.01966</td>\n",
       "      <td>0.06425</td>\n",
       "      <td>...</td>\n",
       "      <td>0.10470</td>\n",
       "      <td>0.01767</td>\n",
       "      <td>19.649</td>\n",
       "      <td>1</td>\n",
       "      <td>0.417356</td>\n",
       "      <td>0.823484</td>\n",
       "      <td>-3.747787</td>\n",
       "      <td>0.234513</td>\n",
       "      <td>2.332180</td>\n",
       "      <td>0.410335</td>\n",
       "    </tr>\n",
       "  </tbody>\n",
       "</table>\n",
       "<p>5 rows × 24 columns</p>\n",
       "</div>"
      ],
      "text/plain": [
       "             name  MDVP:Fo(Hz)  MDVP:Fhi(Hz)  MDVP:Flo(Hz)  MDVP:Jitter(%)  \\\n",
       "0  phon_R01_S01_1      119.992       157.302        74.997         0.00784   \n",
       "1  phon_R01_S01_2      122.400       148.650       113.819         0.00968   \n",
       "2  phon_R01_S01_3      116.682       131.111       111.555         0.01050   \n",
       "3  phon_R01_S01_4      116.676       137.871       111.366         0.00997   \n",
       "4  phon_R01_S01_5      116.014       141.781       110.655         0.01284   \n",
       "\n",
       "   MDVP:Jitter(Abs)  MDVP:RAP  MDVP:PPQ  Jitter:DDP  MDVP:Shimmer  ...  \\\n",
       "0           0.00007   0.00370   0.00554     0.01109       0.04374  ...   \n",
       "1           0.00008   0.00465   0.00696     0.01394       0.06134  ...   \n",
       "2           0.00009   0.00544   0.00781     0.01633       0.05233  ...   \n",
       "3           0.00009   0.00502   0.00698     0.01505       0.05492  ...   \n",
       "4           0.00011   0.00655   0.00908     0.01966       0.06425  ...   \n",
       "\n",
       "   Shimmer:DDA      NHR     HNR  status      RPDE       DFA   spread1  \\\n",
       "0      0.06545  0.02211  21.033       1  0.414783  0.815285 -4.813031   \n",
       "1      0.09403  0.01929  19.085       1  0.458359  0.819521 -4.075192   \n",
       "2      0.08270  0.01309  20.651       1  0.429895  0.825288 -4.443179   \n",
       "3      0.08771  0.01353  20.644       1  0.434969  0.819235 -4.117501   \n",
       "4      0.10470  0.01767  19.649       1  0.417356  0.823484 -3.747787   \n",
       "\n",
       "    spread2        D2       PPE  \n",
       "0  0.266482  2.301442  0.284654  \n",
       "1  0.335590  2.486855  0.368674  \n",
       "2  0.311173  2.342259  0.332634  \n",
       "3  0.334147  2.405554  0.368975  \n",
       "4  0.234513  2.332180  0.410335  \n",
       "\n",
       "[5 rows x 24 columns]"
      ]
     },
     "execution_count": 187,
     "metadata": {},
     "output_type": "execute_result"
    }
   ],
   "source": [
    "data.head()"
   ]
  },
  {
   "cell_type": "code",
   "execution_count": 188,
   "id": "4f8e2c3c",
   "metadata": {},
   "outputs": [
    {
     "data": {
      "text/plain": [
       "(195, 24)"
      ]
     },
     "execution_count": 188,
     "metadata": {},
     "output_type": "execute_result"
    }
   ],
   "source": [
    "data.shape"
   ]
  },
  {
   "cell_type": "code",
   "execution_count": 189,
   "id": "feea9cbf",
   "metadata": {},
   "outputs": [
    {
     "data": {
      "text/plain": [
       "name                 object\n",
       "MDVP:Fo(Hz)         float64\n",
       "MDVP:Fhi(Hz)        float64\n",
       "MDVP:Flo(Hz)        float64\n",
       "MDVP:Jitter(%)      float64\n",
       "MDVP:Jitter(Abs)    float64\n",
       "MDVP:RAP            float64\n",
       "MDVP:PPQ            float64\n",
       "Jitter:DDP          float64\n",
       "MDVP:Shimmer        float64\n",
       "MDVP:Shimmer(dB)    float64\n",
       "Shimmer:APQ3        float64\n",
       "Shimmer:APQ5        float64\n",
       "MDVP:APQ            float64\n",
       "Shimmer:DDA         float64\n",
       "NHR                 float64\n",
       "HNR                 float64\n",
       "status                int64\n",
       "RPDE                float64\n",
       "DFA                 float64\n",
       "spread1             float64\n",
       "spread2             float64\n",
       "D2                  float64\n",
       "PPE                 float64\n",
       "dtype: object"
      ]
     },
     "execution_count": 189,
     "metadata": {},
     "output_type": "execute_result"
    }
   ],
   "source": [
    "data.dtypes"
   ]
  },
  {
   "cell_type": "code",
   "execution_count": 190,
   "id": "a84d8664",
   "metadata": {},
   "outputs": [
    {
     "data": {
      "text/html": [
       "<div>\n",
       "<style scoped>\n",
       "    .dataframe tbody tr th:only-of-type {\n",
       "        vertical-align: middle;\n",
       "    }\n",
       "\n",
       "    .dataframe tbody tr th {\n",
       "        vertical-align: top;\n",
       "    }\n",
       "\n",
       "    .dataframe thead th {\n",
       "        text-align: right;\n",
       "    }\n",
       "</style>\n",
       "<table border=\"1\" class=\"dataframe\">\n",
       "  <thead>\n",
       "    <tr style=\"text-align: right;\">\n",
       "      <th></th>\n",
       "      <th>MDVP:Fo(Hz)</th>\n",
       "      <th>MDVP:Fhi(Hz)</th>\n",
       "      <th>MDVP:Flo(Hz)</th>\n",
       "      <th>MDVP:Jitter(%)</th>\n",
       "      <th>MDVP:Jitter(Abs)</th>\n",
       "      <th>MDVP:RAP</th>\n",
       "      <th>MDVP:PPQ</th>\n",
       "      <th>Jitter:DDP</th>\n",
       "      <th>MDVP:Shimmer</th>\n",
       "      <th>MDVP:Shimmer(dB)</th>\n",
       "      <th>...</th>\n",
       "      <th>Shimmer:DDA</th>\n",
       "      <th>NHR</th>\n",
       "      <th>HNR</th>\n",
       "      <th>status</th>\n",
       "      <th>RPDE</th>\n",
       "      <th>DFA</th>\n",
       "      <th>spread1</th>\n",
       "      <th>spread2</th>\n",
       "      <th>D2</th>\n",
       "      <th>PPE</th>\n",
       "    </tr>\n",
       "  </thead>\n",
       "  <tbody>\n",
       "    <tr>\n",
       "      <th>count</th>\n",
       "      <td>195.000000</td>\n",
       "      <td>195.000000</td>\n",
       "      <td>195.000000</td>\n",
       "      <td>195.000000</td>\n",
       "      <td>195.000000</td>\n",
       "      <td>195.000000</td>\n",
       "      <td>195.000000</td>\n",
       "      <td>195.000000</td>\n",
       "      <td>195.000000</td>\n",
       "      <td>195.000000</td>\n",
       "      <td>...</td>\n",
       "      <td>195.000000</td>\n",
       "      <td>195.000000</td>\n",
       "      <td>195.000000</td>\n",
       "      <td>195.000000</td>\n",
       "      <td>195.000000</td>\n",
       "      <td>195.000000</td>\n",
       "      <td>195.000000</td>\n",
       "      <td>195.000000</td>\n",
       "      <td>195.000000</td>\n",
       "      <td>195.000000</td>\n",
       "    </tr>\n",
       "    <tr>\n",
       "      <th>mean</th>\n",
       "      <td>154.228641</td>\n",
       "      <td>197.104918</td>\n",
       "      <td>116.324631</td>\n",
       "      <td>0.006220</td>\n",
       "      <td>0.000044</td>\n",
       "      <td>0.003306</td>\n",
       "      <td>0.003446</td>\n",
       "      <td>0.009920</td>\n",
       "      <td>0.029709</td>\n",
       "      <td>0.282251</td>\n",
       "      <td>...</td>\n",
       "      <td>0.046993</td>\n",
       "      <td>0.024847</td>\n",
       "      <td>21.885974</td>\n",
       "      <td>0.753846</td>\n",
       "      <td>0.498536</td>\n",
       "      <td>0.718099</td>\n",
       "      <td>-5.684397</td>\n",
       "      <td>0.226510</td>\n",
       "      <td>2.381826</td>\n",
       "      <td>0.206552</td>\n",
       "    </tr>\n",
       "    <tr>\n",
       "      <th>std</th>\n",
       "      <td>41.390065</td>\n",
       "      <td>91.491548</td>\n",
       "      <td>43.521413</td>\n",
       "      <td>0.004848</td>\n",
       "      <td>0.000035</td>\n",
       "      <td>0.002968</td>\n",
       "      <td>0.002759</td>\n",
       "      <td>0.008903</td>\n",
       "      <td>0.018857</td>\n",
       "      <td>0.194877</td>\n",
       "      <td>...</td>\n",
       "      <td>0.030459</td>\n",
       "      <td>0.040418</td>\n",
       "      <td>4.425764</td>\n",
       "      <td>0.431878</td>\n",
       "      <td>0.103942</td>\n",
       "      <td>0.055336</td>\n",
       "      <td>1.090208</td>\n",
       "      <td>0.083406</td>\n",
       "      <td>0.382799</td>\n",
       "      <td>0.090119</td>\n",
       "    </tr>\n",
       "    <tr>\n",
       "      <th>min</th>\n",
       "      <td>88.333000</td>\n",
       "      <td>102.145000</td>\n",
       "      <td>65.476000</td>\n",
       "      <td>0.001680</td>\n",
       "      <td>0.000007</td>\n",
       "      <td>0.000680</td>\n",
       "      <td>0.000920</td>\n",
       "      <td>0.002040</td>\n",
       "      <td>0.009540</td>\n",
       "      <td>0.085000</td>\n",
       "      <td>...</td>\n",
       "      <td>0.013640</td>\n",
       "      <td>0.000650</td>\n",
       "      <td>8.441000</td>\n",
       "      <td>0.000000</td>\n",
       "      <td>0.256570</td>\n",
       "      <td>0.574282</td>\n",
       "      <td>-7.964984</td>\n",
       "      <td>0.006274</td>\n",
       "      <td>1.423287</td>\n",
       "      <td>0.044539</td>\n",
       "    </tr>\n",
       "    <tr>\n",
       "      <th>25%</th>\n",
       "      <td>117.572000</td>\n",
       "      <td>134.862500</td>\n",
       "      <td>84.291000</td>\n",
       "      <td>0.003460</td>\n",
       "      <td>0.000020</td>\n",
       "      <td>0.001660</td>\n",
       "      <td>0.001860</td>\n",
       "      <td>0.004985</td>\n",
       "      <td>0.016505</td>\n",
       "      <td>0.148500</td>\n",
       "      <td>...</td>\n",
       "      <td>0.024735</td>\n",
       "      <td>0.005925</td>\n",
       "      <td>19.198000</td>\n",
       "      <td>1.000000</td>\n",
       "      <td>0.421306</td>\n",
       "      <td>0.674758</td>\n",
       "      <td>-6.450096</td>\n",
       "      <td>0.174351</td>\n",
       "      <td>2.099125</td>\n",
       "      <td>0.137451</td>\n",
       "    </tr>\n",
       "    <tr>\n",
       "      <th>50%</th>\n",
       "      <td>148.790000</td>\n",
       "      <td>175.829000</td>\n",
       "      <td>104.315000</td>\n",
       "      <td>0.004940</td>\n",
       "      <td>0.000030</td>\n",
       "      <td>0.002500</td>\n",
       "      <td>0.002690</td>\n",
       "      <td>0.007490</td>\n",
       "      <td>0.022970</td>\n",
       "      <td>0.221000</td>\n",
       "      <td>...</td>\n",
       "      <td>0.038360</td>\n",
       "      <td>0.011660</td>\n",
       "      <td>22.085000</td>\n",
       "      <td>1.000000</td>\n",
       "      <td>0.495954</td>\n",
       "      <td>0.722254</td>\n",
       "      <td>-5.720868</td>\n",
       "      <td>0.218885</td>\n",
       "      <td>2.361532</td>\n",
       "      <td>0.194052</td>\n",
       "    </tr>\n",
       "    <tr>\n",
       "      <th>75%</th>\n",
       "      <td>182.769000</td>\n",
       "      <td>224.205500</td>\n",
       "      <td>140.018500</td>\n",
       "      <td>0.007365</td>\n",
       "      <td>0.000060</td>\n",
       "      <td>0.003835</td>\n",
       "      <td>0.003955</td>\n",
       "      <td>0.011505</td>\n",
       "      <td>0.037885</td>\n",
       "      <td>0.350000</td>\n",
       "      <td>...</td>\n",
       "      <td>0.060795</td>\n",
       "      <td>0.025640</td>\n",
       "      <td>25.075500</td>\n",
       "      <td>1.000000</td>\n",
       "      <td>0.587562</td>\n",
       "      <td>0.761881</td>\n",
       "      <td>-5.046192</td>\n",
       "      <td>0.279234</td>\n",
       "      <td>2.636456</td>\n",
       "      <td>0.252980</td>\n",
       "    </tr>\n",
       "    <tr>\n",
       "      <th>max</th>\n",
       "      <td>260.105000</td>\n",
       "      <td>592.030000</td>\n",
       "      <td>239.170000</td>\n",
       "      <td>0.033160</td>\n",
       "      <td>0.000260</td>\n",
       "      <td>0.021440</td>\n",
       "      <td>0.019580</td>\n",
       "      <td>0.064330</td>\n",
       "      <td>0.119080</td>\n",
       "      <td>1.302000</td>\n",
       "      <td>...</td>\n",
       "      <td>0.169420</td>\n",
       "      <td>0.314820</td>\n",
       "      <td>33.047000</td>\n",
       "      <td>1.000000</td>\n",
       "      <td>0.685151</td>\n",
       "      <td>0.825288</td>\n",
       "      <td>-2.434031</td>\n",
       "      <td>0.450493</td>\n",
       "      <td>3.671155</td>\n",
       "      <td>0.527367</td>\n",
       "    </tr>\n",
       "  </tbody>\n",
       "</table>\n",
       "<p>8 rows × 23 columns</p>\n",
       "</div>"
      ],
      "text/plain": [
       "       MDVP:Fo(Hz)  MDVP:Fhi(Hz)  MDVP:Flo(Hz)  MDVP:Jitter(%)  \\\n",
       "count   195.000000    195.000000    195.000000      195.000000   \n",
       "mean    154.228641    197.104918    116.324631        0.006220   \n",
       "std      41.390065     91.491548     43.521413        0.004848   \n",
       "min      88.333000    102.145000     65.476000        0.001680   \n",
       "25%     117.572000    134.862500     84.291000        0.003460   \n",
       "50%     148.790000    175.829000    104.315000        0.004940   \n",
       "75%     182.769000    224.205500    140.018500        0.007365   \n",
       "max     260.105000    592.030000    239.170000        0.033160   \n",
       "\n",
       "       MDVP:Jitter(Abs)    MDVP:RAP    MDVP:PPQ  Jitter:DDP  MDVP:Shimmer  \\\n",
       "count        195.000000  195.000000  195.000000  195.000000    195.000000   \n",
       "mean           0.000044    0.003306    0.003446    0.009920      0.029709   \n",
       "std            0.000035    0.002968    0.002759    0.008903      0.018857   \n",
       "min            0.000007    0.000680    0.000920    0.002040      0.009540   \n",
       "25%            0.000020    0.001660    0.001860    0.004985      0.016505   \n",
       "50%            0.000030    0.002500    0.002690    0.007490      0.022970   \n",
       "75%            0.000060    0.003835    0.003955    0.011505      0.037885   \n",
       "max            0.000260    0.021440    0.019580    0.064330      0.119080   \n",
       "\n",
       "       MDVP:Shimmer(dB)  ...  Shimmer:DDA         NHR         HNR      status  \\\n",
       "count        195.000000  ...   195.000000  195.000000  195.000000  195.000000   \n",
       "mean           0.282251  ...     0.046993    0.024847   21.885974    0.753846   \n",
       "std            0.194877  ...     0.030459    0.040418    4.425764    0.431878   \n",
       "min            0.085000  ...     0.013640    0.000650    8.441000    0.000000   \n",
       "25%            0.148500  ...     0.024735    0.005925   19.198000    1.000000   \n",
       "50%            0.221000  ...     0.038360    0.011660   22.085000    1.000000   \n",
       "75%            0.350000  ...     0.060795    0.025640   25.075500    1.000000   \n",
       "max            1.302000  ...     0.169420    0.314820   33.047000    1.000000   \n",
       "\n",
       "             RPDE         DFA     spread1     spread2          D2         PPE  \n",
       "count  195.000000  195.000000  195.000000  195.000000  195.000000  195.000000  \n",
       "mean     0.498536    0.718099   -5.684397    0.226510    2.381826    0.206552  \n",
       "std      0.103942    0.055336    1.090208    0.083406    0.382799    0.090119  \n",
       "min      0.256570    0.574282   -7.964984    0.006274    1.423287    0.044539  \n",
       "25%      0.421306    0.674758   -6.450096    0.174351    2.099125    0.137451  \n",
       "50%      0.495954    0.722254   -5.720868    0.218885    2.361532    0.194052  \n",
       "75%      0.587562    0.761881   -5.046192    0.279234    2.636456    0.252980  \n",
       "max      0.685151    0.825288   -2.434031    0.450493    3.671155    0.527367  \n",
       "\n",
       "[8 rows x 23 columns]"
      ]
     },
     "execution_count": 190,
     "metadata": {},
     "output_type": "execute_result"
    }
   ],
   "source": [
    "data.describe()"
   ]
  },
  {
   "cell_type": "code",
   "execution_count": 191,
   "id": "d82c2303",
   "metadata": {},
   "outputs": [
    {
     "data": {
      "text/plain": [
       "Index(['name', 'MDVP:Fo(Hz)', 'MDVP:Fhi(Hz)', 'MDVP:Flo(Hz)', 'MDVP:Jitter(%)',\n",
       "       'MDVP:Jitter(Abs)', 'MDVP:RAP', 'MDVP:PPQ', 'Jitter:DDP',\n",
       "       'MDVP:Shimmer', 'MDVP:Shimmer(dB)', 'Shimmer:APQ3', 'Shimmer:APQ5',\n",
       "       'MDVP:APQ', 'Shimmer:DDA', 'NHR', 'HNR', 'status', 'RPDE', 'DFA',\n",
       "       'spread1', 'spread2', 'D2', 'PPE'],\n",
       "      dtype='object')"
      ]
     },
     "execution_count": 191,
     "metadata": {},
     "output_type": "execute_result"
    }
   ],
   "source": [
    "data.columns"
   ]
  },
  {
   "cell_type": "code",
   "execution_count": 192,
   "id": "1fd0f30f",
   "metadata": {},
   "outputs": [
    {
     "data": {
      "text/plain": [
       "0      1\n",
       "1      1\n",
       "2      1\n",
       "3      1\n",
       "4      1\n",
       "      ..\n",
       "190    0\n",
       "191    0\n",
       "192    0\n",
       "193    0\n",
       "194    0\n",
       "Name: status, Length: 195, dtype: int64"
      ]
     },
     "execution_count": 192,
     "metadata": {},
     "output_type": "execute_result"
    }
   ],
   "source": [
    "data['status'] #dependent variable"
   ]
  },
  {
   "cell_type": "code",
   "execution_count": 193,
   "id": "dafabbb5",
   "metadata": {},
   "outputs": [
    {
     "data": {
      "image/png": "[encoded data removed]",
      "text/plain": [
       "<Figure size 640x480 with 1 Axes>"
      ]
     },
     "metadata": {},
     "output_type": "display_data"
    }
   ],
   "source": [
    "data.status.hist()\n",
    "plt.xlabel('status')\n",
    "plt.ylabel('Frequencies')\n",
    "plt.plot()\n",
    "plt.show()"
   ]
  },
  {
   "cell_type": "code",
   "execution_count": 194,
   "id": "8fd69894",
   "metadata": {},
   "outputs": [
    {
     "data": {
      "image/png": "[encoded data removed]",
      "text/plain": [
       "<Figure size 640x480 with 1 Axes>"
      ]
     },
     "metadata": {},
     "output_type": "display_data"
    }
   ],
   "source": [
    "sns.barplot(x=\"status\",y=\"NHR\",data=data);\n",
    "plt.show()"
   ]
  },
  {
   "cell_type": "code",
   "execution_count": 195,
   "id": "7618b68c",
   "metadata": {},
   "outputs": [
    {
     "data": {
      "image/png": "[encoded data removed]",
      "text/plain": [
       "<Figure size 640x480 with 1 Axes>"
      ]
     },
     "metadata": {},
     "output_type": "display_data"
    }
   ],
   "source": [
    "sns.barplot(x=\"status\",y=\"RPDE\",data=data);\n",
    "plt.show()"
   ]
  },
  {
   "cell_type": "code",
   "execution_count": 196,
   "id": "e9af730a",
   "metadata": {},
   "outputs": [
    {
     "data": {
      "image/png": "[encoded data removed]",
      "text/plain": [
       "<Figure size 1600x400 with 21 Axes>"
      ]
     },
     "metadata": {},
     "output_type": "display_data"
    }
   ],
   "source": [
    "fig, ax=plt.subplots(nrows=3,ncols=7,figsize=(16,4))\n",
    "col=data.columns\n",
    "index=1\n",
    "for i in range(3):\n",
    "    for j in range(7):\n",
    "        sns.distplot(data[col[index]],ax=ax[i][j])\n",
    "        index=index+1\n",
    "        \n",
    "plt.tight_layout()\n",
    "plt.show()\n"
   ]
  },
  {
   "cell_type": "code",
   "execution_count": 197,
   "id": "20561181",
   "metadata": {},
   "outputs": [
    {
     "data": {
      "text/plain": [
       "<AxesSubplot:>"
      ]
     },
     "execution_count": 197,
     "metadata": {},
     "output_type": "execute_result"
    },
    {
     "data": {
      "image/png": "[encoded data removed]",
      "text/plain": [
       "<Figure size 640x480 with 2 Axes>"
      ]
     },
     "metadata": {},
     "output_type": "display_data"
    }
   ],
   "source": [
    "corr = data.corr()\n",
    "sns.heatmap(corr, square = True)"
   ]
  },
  {
   "cell_type": "code",
   "execution_count": 198,
   "id": "8be094ee",
   "metadata": {},
   "outputs": [
    {
     "data": {
      "image/png": "[encoded data removed]",
      "text/plain": [
       "<Figure size 640x480 with 2 Axes>"
      ]
     },
     "metadata": {},
     "output_type": "display_data"
    }
   ],
   "source": [
    "cols = corr.nlargest(12,'status')['status'].index\n",
    "coeff_val = np.corrcoef(data[cols].values.T)\n",
    "sns.heatmap(coeff_val,cbar=True,annot=True,square=True,fmt='.2f', annot_kws={'size': 10}, yticklabels=cols.values, xticklabels=cols.values)\n",
    "plt.show()"
   ]
  },
  {
   "cell_type": "code",
   "execution_count": 199,
   "id": "d6bfa4f9",
   "metadata": {},
   "outputs": [
    {
     "data": {
      "text/plain": [
       "status              1.000000\n",
       "spread1             0.564838\n",
       "PPE                 0.531039\n",
       "spread2             0.454842\n",
       "MDVP:Fo(Hz)         0.383535\n",
       "MDVP:Flo(Hz)        0.380200\n",
       "MDVP:Shimmer        0.367430\n",
       "MDVP:APQ            0.364316\n",
       "HNR                 0.361515\n",
       "Shimmer:APQ5        0.351148\n",
       "MDVP:Shimmer(dB)    0.350697\n",
       "Shimmer:APQ3        0.347617\n",
       "Shimmer:DDA         0.347608\n",
       "D2                  0.340232\n",
       "MDVP:Jitter(Abs)    0.338653\n",
       "RPDE                0.308567\n",
       "MDVP:PPQ            0.288698\n",
       "MDVP:Jitter(%)      0.278220\n",
       "MDVP:RAP            0.266668\n",
       "Jitter:DDP          0.266646\n",
       "DFA                 0.231739\n",
       "NHR                 0.189429\n",
       "MDVP:Fhi(Hz)        0.166136\n",
       "Name: status, dtype: float64"
      ]
     },
     "execution_count": 199,
     "metadata": {},
     "output_type": "execute_result"
    }
   ],
   "source": [
    "corr_val=data.corr()['status']\n",
    "corr_val.abs().sort_values(ascending=False)"
   ]
  },
  {
   "cell_type": "code",
   "execution_count": 200,
   "id": "9cae91b7",
   "metadata": {},
   "outputs": [
    {
     "name": "stdout",
     "output_type": "stream",
     "text": [
      "<class 'pandas.core.frame.DataFrame'>\n",
      "RangeIndex: 195 entries, 0 to 194\n",
      "Data columns (total 24 columns):\n",
      " #   Column            Non-Null Count  Dtype  \n",
      "---  ------            --------------  -----  \n",
      " 0   name              195 non-null    object \n",
      " 1   MDVP:Fo(Hz)       195 non-null    float64\n",
      " 2   MDVP:Fhi(Hz)      195 non-null    float64\n",
      " 3   MDVP:Flo(Hz)      195 non-null    float64\n",
      " 4   MDVP:Jitter(%)    195 non-null    float64\n",
      " 5   MDVP:Jitter(Abs)  195 non-null    float64\n",
      " 6   MDVP:RAP          195 non-null    float64\n",
      " 7   MDVP:PPQ          195 non-null    float64\n",
      " 8   Jitter:DDP        195 non-null    float64\n",
      " 9   MDVP:Shimmer      195 non-null    float64\n",
      " 10  MDVP:Shimmer(dB)  195 non-null    float64\n",
      " 11  Shimmer:APQ3      195 non-null    float64\n",
      " 12  Shimmer:APQ5      195 non-null    float64\n",
      " 13  MDVP:APQ          195 non-null    float64\n",
      " 14  Shimmer:DDA       195 non-null    float64\n",
      " 15  NHR               195 non-null    float64\n",
      " 16  HNR               195 non-null    float64\n",
      " 17  status            195 non-null    int64  \n",
      " 18  RPDE              195 non-null    float64\n",
      " 19  DFA               195 non-null    float64\n",
      " 20  spread1           195 non-null    float64\n",
      " 21  spread2           195 non-null    float64\n",
      " 22  D2                195 non-null    float64\n",
      " 23  PPE               195 non-null    float64\n",
      "dtypes: float64(22), int64(1), object(1)\n",
      "memory usage: 36.7+ KB\n"
     ]
    }
   ],
   "source": [
    "data.info()"
   ]
  },
  {
   "cell_type": "code",
   "execution_count": 201,
   "id": "9e88f239",
   "metadata": {},
   "outputs": [
    {
     "data": {
      "text/plain": [
       "name                0\n",
       "MDVP:Fo(Hz)         0\n",
       "MDVP:Fhi(Hz)        0\n",
       "MDVP:Flo(Hz)        0\n",
       "MDVP:Jitter(%)      0\n",
       "MDVP:Jitter(Abs)    0\n",
       "MDVP:RAP            0\n",
       "MDVP:PPQ            0\n",
       "Jitter:DDP          0\n",
       "MDVP:Shimmer        0\n",
       "MDVP:Shimmer(dB)    0\n",
       "Shimmer:APQ3        0\n",
       "Shimmer:APQ5        0\n",
       "MDVP:APQ            0\n",
       "Shimmer:DDA         0\n",
       "NHR                 0\n",
       "HNR                 0\n",
       "status              0\n",
       "RPDE                0\n",
       "DFA                 0\n",
       "spread1             0\n",
       "spread2             0\n",
       "D2                  0\n",
       "PPE                 0\n",
       "dtype: int64"
      ]
     },
     "execution_count": 201,
     "metadata": {},
     "output_type": "execute_result"
    }
   ],
   "source": [
    "data.isna().sum()"
   ]
  },
  {
   "cell_type": "code",
   "execution_count": 202,
   "id": "8e0af9f8",
   "metadata": {},
   "outputs": [
    {
     "name": "stdout",
     "output_type": "stream",
     "text": [
      "   MDVP:Fo(Hz)  MDVP:Fhi(Hz)  MDVP:Flo(Hz)  MDVP:Jitter(%)  MDVP:Jitter(Abs)  \\\n",
      "0      119.992       157.302        74.997         0.00784           0.00007   \n",
      "1      122.400       148.650       113.819         0.00968           0.00008   \n",
      "2      116.682       131.111       111.555         0.01050           0.00009   \n",
      "3      116.676       137.871       111.366         0.00997           0.00009   \n",
      "4      116.014       141.781       110.655         0.01284           0.00011   \n",
      "\n",
      "   MDVP:RAP  MDVP:PPQ  Jitter:DDP  MDVP:Shimmer  MDVP:Shimmer(dB)  ...  \\\n",
      "0   0.00370   0.00554     0.01109       0.04374             0.426  ...   \n",
      "1   0.00465   0.00696     0.01394       0.06134             0.626  ...   \n",
      "2   0.00544   0.00781     0.01633       0.05233             0.482  ...   \n",
      "3   0.00502   0.00698     0.01505       0.05492             0.517  ...   \n",
      "4   0.00655   0.00908     0.01966       0.06425             0.584  ...   \n",
      "\n",
      "   MDVP:APQ  Shimmer:DDA      NHR     HNR      RPDE       DFA   spread1  \\\n",
      "0   0.02971      0.06545  0.02211  21.033  0.414783  0.815285 -4.813031   \n",
      "1   0.04368      0.09403  0.01929  19.085  0.458359  0.819521 -4.075192   \n",
      "2   0.03590      0.08270  0.01309  20.651  0.429895  0.825288 -4.443179   \n",
      "3   0.03772      0.08771  0.01353  20.644  0.434969  0.819235 -4.117501   \n",
      "4   0.04465      0.10470  0.01767  19.649  0.417356  0.823484 -3.747787   \n",
      "\n",
      "    spread2        D2       PPE  \n",
      "0  0.266482  2.301442  0.284654  \n",
      "1  0.335590  2.486855  0.368674  \n",
      "2  0.311173  2.342259  0.332634  \n",
      "3  0.334147  2.405554  0.368975  \n",
      "4  0.234513  2.332180  0.410335  \n",
      "\n",
      "[5 rows x 22 columns]\n",
      "0    1\n",
      "1    1\n",
      "2    1\n",
      "3    1\n",
      "4    1\n",
      "Name: status, dtype: int64\n"
     ]
    }
   ],
   "source": [
    "y=data['status']\n",
    "x=data.drop(['status','name'],axis=1)\n",
    "print(x.head())\n",
    "print(y.head())"
   ]
  },
  {
   "cell_type": "code",
   "execution_count": 203,
   "id": "09ac01c4",
   "metadata": {},
   "outputs": [
    {
     "name": "stdout",
     "output_type": "stream",
     "text": [
      "[7.28992685e-01 2.18244614e-01 5.11208836e-02 1.59375083e-03\n",
      " 3.99918033e-05 6.11307404e-06 1.02242869e-06 4.70266043e-07\n",
      " 2.64471006e-07 1.15502769e-07 4.47826786e-08 3.52964683e-08\n",
      " 5.90154039e-09 1.32664162e-09 6.43674308e-10 2.55212607e-10\n",
      " 4.19671672e-11 1.71134297e-11 4.87158546e-12 2.17732223e-15\n",
      " 5.44691902e-16 4.47765763e-16]\n"
     ]
    }
   ],
   "source": [
    "from sklearn.decomposition import PCA\n",
    "pca = PCA()\n",
    "pt = pca.fit_transform(x)\n",
    "print(pca.explained_variance_ratio_)"
   ]
  },
  {
   "cell_type": "code",
   "execution_count": 204,
   "id": "be10323c",
   "metadata": {},
   "outputs": [
    {
     "name": "stdout",
     "output_type": "stream",
     "text": [
      "(156, 22) (39,) (156, 22) (39,)\n"
     ]
    }
   ],
   "source": [
    "from sklearn.model_selection import train_test_split\n",
    "x_train,x_test,y_train,y_test=train_test_split(x,y,test_size=0.2,random_state=40)\n",
    "print(x_train.shape,y_test.shape,x_train.shape,y_test.shape)"
   ]
  },
  {
   "cell_type": "code",
   "execution_count": 205,
   "id": "feda6df3",
   "metadata": {},
   "outputs": [
    {
     "name": "stdout",
     "output_type": "stream",
     "text": [
      "Model accuracy on train is:  0.8782051282051282\n"
     ]
    }
   ],
   "source": [
    "#logistic regression\n",
    "from sklearn.linear_model import LogisticRegression\n",
    "from sklearn.metrics import accuracy_score\n",
    "lr = LogisticRegression().fit(x_train, y_train)\n",
    "y_pred1 = lr.predict(x_train)\n",
    "print(\"Model accuracy on train is: \", accuracy_score(y_train, y_pred1))"
   ]
  },
  {
   "cell_type": "code",
   "execution_count": 206,
   "id": "f5d59cbf",
   "metadata": {},
   "outputs": [
    {
     "name": "stdout",
     "output_type": "stream",
     "text": [
      "Model accuracy on test is:  0.8717948717948718\n"
     ]
    }
   ],
   "source": [
    "y_pred2 = lr.predict(x_test)\n",
    "print(\"Model accuracy on test is: \", accuracy_score(y_test, y_pred2))"
   ]
  },
  {
   "cell_type": "code",
   "execution_count": 207,
   "id": "2dfecc2b",
   "metadata": {},
   "outputs": [
    {
     "name": "stdout",
     "output_type": "stream",
     "text": [
      "confusion_matrix train is:\n",
      "  [[ 25  15]\n",
      " [  4 112]]\n",
      "confusion_matrix test is:\n",
      "  [[ 5  3]\n",
      " [ 2 29]]\n",
      "\n",
      "Classification Report Train is \n",
      "              precision    recall  f1-score   support\n",
      "\n",
      "           0       0.86      0.62      0.72        40\n",
      "           1       0.88      0.97      0.92       116\n",
      "\n",
      "    accuracy                           0.88       156\n",
      "   macro avg       0.87      0.80      0.82       156\n",
      "weighted avg       0.88      0.88      0.87       156\n",
      "\n",
      "\n",
      "Classification Report Test is \n",
      "              precision    recall  f1-score   support\n",
      "\n",
      "           0       0.71      0.62      0.67         8\n",
      "           1       0.91      0.94      0.92        31\n",
      "\n",
      "    accuracy                           0.87        39\n",
      "   macro avg       0.81      0.78      0.79        39\n",
      "weighted avg       0.87      0.87      0.87        39\n",
      "\n"
     ]
    }
   ],
   "source": [
    "from sklearn.metrics import confusion_matrix\n",
    "from sklearn.metrics import classification_report\n",
    "print(\"confusion_matrix train is:\\n \", confusion_matrix(y_train, y_pred1))\n",
    "print(\"confusion_matrix test is:\\n \", confusion_matrix(y_test, y_pred2))\n",
    "print('\\nClassification Report Train is ')\n",
    "print(classification_report (y_train, y_pred1))\n",
    "print('\\nClassification Report Test is ')\n",
    "print(classification_report (y_test, y_pred2))"
   ]
  },
  {
   "cell_type": "code",
   "execution_count": 208,
   "id": "5ed191e3",
   "metadata": {},
   "outputs": [
    {
     "name": "stdout",
     "output_type": "stream",
     "text": [
      "Model accuracy on whole data is:  0.8769230769230769\n"
     ]
    }
   ],
   "source": [
    "y_pred = lr.predict(x)\n",
    "print(\"Model accuracy on whole data is: \", accuracy_score(y, y_pred))"
   ]
  },
  {
   "cell_type": "code",
   "execution_count": 209,
   "id": "c298409e",
   "metadata": {},
   "outputs": [
    {
     "name": "stdout",
     "output_type": "stream",
     "text": [
      "confusion_matrix of whole data is:\n",
      "  [[ 30  18]\n",
      " [  6 141]]\n",
      "\n",
      "Classification Report of whole data is \n",
      "              precision    recall  f1-score   support\n",
      "\n",
      "           0       0.83      0.62      0.71        48\n",
      "           1       0.89      0.96      0.92       147\n",
      "\n",
      "    accuracy                           0.88       195\n",
      "   macro avg       0.86      0.79      0.82       195\n",
      "weighted avg       0.87      0.88      0.87       195\n",
      "\n"
     ]
    }
   ],
   "source": [
    "print(\"confusion_matrix of whole data is:\\n \", confusion_matrix(y, y_pred))\n",
    "print('\\nClassification Report of whole data is ')\n",
    "print(classification_report (y, y_pred))"
   ]
  },
  {
   "cell_type": "code",
   "execution_count": 210,
   "id": "2f6123e7",
   "metadata": {},
   "outputs": [
    {
     "name": "stdout",
     "output_type": "stream",
     "text": [
      "5 / 39\n",
      "KappaScore is:  0.587737843551797\n"
     ]
    }
   ],
   "source": [
    "from sklearn.metrics import cohen_kappa_score\n",
    "print((y_test !=y_pred2).sum(),'/',((y_test == y_pred2).sum()+(y_test != y_pred2).sum()))\n",
    "print('KappaScore is: ', cohen_kappa_score(y_test,y_pred2))"
   ]
  },
  {
   "cell_type": "code",
   "execution_count": 211,
   "id": "d9645cfb",
   "metadata": {},
   "outputs": [
    {
     "name": "stdout",
     "output_type": "stream",
     "text": [
      "Model accuracy on train is:  0.9102564102564102\n"
     ]
    }
   ],
   "source": [
    "#KNN\n",
    "from sklearn.neighbors import KNeighborsClassifier\n",
    "knn = KNeighborsClassifier().fit(x_train,y_train)\n",
    "y_pred1 = knn.predict(x_train)\n",
    "print(\"Model accuracy on train is: \", accuracy_score(y_train, y_pred1))"
   ]
  },
  {
   "cell_type": "code",
   "execution_count": 212,
   "id": "ff2c21da",
   "metadata": {},
   "outputs": [
    {
     "name": "stdout",
     "output_type": "stream",
     "text": [
      "Model accuracy on test is:  0.8461538461538461\n"
     ]
    }
   ],
   "source": [
    "y_pred2 = knn.predict(x_test)\n",
    "print(\"Model accuracy on test is: \", accuracy_score(y_test, y_pred2))"
   ]
  },
  {
   "cell_type": "code",
   "execution_count": 213,
   "id": "19b3a656",
   "metadata": {},
   "outputs": [
    {
     "name": "stdout",
     "output_type": "stream",
     "text": [
      "confusion_matrix train is:\n",
      "  [[ 30  10]\n",
      " [  4 112]]\n",
      "confusion_matrix test is:\n",
      "  [[ 4  4]\n",
      " [ 2 29]]\n",
      "\n",
      "Classification Report Train is \n",
      "              precision    recall  f1-score   support\n",
      "\n",
      "           0       0.88      0.75      0.81        40\n",
      "           1       0.92      0.97      0.94       116\n",
      "\n",
      "    accuracy                           0.91       156\n",
      "   macro avg       0.90      0.86      0.88       156\n",
      "weighted avg       0.91      0.91      0.91       156\n",
      "\n",
      "\n",
      "Classification Report Test is \n",
      "              precision    recall  f1-score   support\n",
      "\n",
      "           0       0.67      0.50      0.57         8\n",
      "           1       0.88      0.94      0.91        31\n",
      "\n",
      "    accuracy                           0.85        39\n",
      "   macro avg       0.77      0.72      0.74        39\n",
      "weighted avg       0.84      0.85      0.84        39\n",
      "\n"
     ]
    }
   ],
   "source": [
    "print(\"confusion_matrix train is:\\n \", confusion_matrix(y_train, y_pred1))\n",
    "print(\"confusion_matrix test is:\\n \", confusion_matrix(y_test, y_pred2))\n",
    "print('\\nClassification Report Train is ')\n",
    "print(classification_report (y_train, y_pred1))\n",
    "print('\\nClassification Report Test is ')\n",
    "print(classification_report (y_test, y_pred2))"
   ]
  },
  {
   "cell_type": "code",
   "execution_count": 214,
   "id": "b6425ce0",
   "metadata": {},
   "outputs": [
    {
     "name": "stdout",
     "output_type": "stream",
     "text": [
      "Model accuracy on whole data is:  0.8974358974358975\n"
     ]
    }
   ],
   "source": [
    "y_pred = knn.predict(x)\n",
    "print(\"Model accuracy on whole data is: \", accuracy_score(y, y_pred))"
   ]
  },
  {
   "cell_type": "code",
   "execution_count": 215,
   "id": "02a96e71",
   "metadata": {},
   "outputs": [
    {
     "name": "stdout",
     "output_type": "stream",
     "text": [
      "confusion_matrix of whole data is:\n",
      "  [[ 34  14]\n",
      " [  6 141]]\n",
      "\n",
      "Classification Report of whole data is \n",
      "              precision    recall  f1-score   support\n",
      "\n",
      "           0       0.85      0.71      0.77        48\n",
      "           1       0.91      0.96      0.93       147\n",
      "\n",
      "    accuracy                           0.90       195\n",
      "   macro avg       0.88      0.83      0.85       195\n",
      "weighted avg       0.89      0.90      0.89       195\n",
      "\n"
     ]
    }
   ],
   "source": [
    "print(\"confusion_matrix of whole data is:\\n \", confusion_matrix(y, y_pred))\n",
    "print('\\nClassification Report of whole data is ')\n",
    "print(classification_report (y, y_pred))"
   ]
  },
  {
   "cell_type": "code",
   "execution_count": 216,
   "id": "a00f82be",
   "metadata": {},
   "outputs": [
    {
     "name": "stdout",
     "output_type": "stream",
     "text": [
      "6 / 39\n",
      "KappaScore is:  0.48\n"
     ]
    }
   ],
   "source": [
    "print((y_test !=y_pred2).sum(),'/',((y_test == y_pred2).sum()+(y_test != y_pred2).sum()))\n",
    "print('KappaScore is: ', cohen_kappa_score(y_test,y_pred2))"
   ]
  },
  {
   "cell_type": "code",
   "execution_count": 217,
   "id": "7e09dcda",
   "metadata": {},
   "outputs": [
    {
     "name": "stdout",
     "output_type": "stream",
     "text": [
      "Model accuracy on train is:  1.0\n"
     ]
    }
   ],
   "source": [
    "#Decision Tree Classifier\n",
    "from sklearn.tree import DecisionTreeClassifier\n",
    "dt = DecisionTreeClassifier().fit(x_train,y_train)\n",
    "y_pred1 = dt.predict(x_train)\n",
    "print(\"Model accuracy on train is: \", accuracy_score(y_train, y_pred1))"
   ]
  },
  {
   "cell_type": "code",
   "execution_count": 218,
   "id": "46893901",
   "metadata": {},
   "outputs": [
    {
     "name": "stdout",
     "output_type": "stream",
     "text": [
      "Model accuracy on test is:  0.8717948717948718\n"
     ]
    }
   ],
   "source": [
    "y_pred2 = dt.predict(x_test)\n",
    "print(\"Model accuracy on test is: \", accuracy_score(y_test, y_pred2))"
   ]
  },
  {
   "cell_type": "code",
   "execution_count": 219,
   "id": "1ecae510",
   "metadata": {},
   "outputs": [
    {
     "name": "stdout",
     "output_type": "stream",
     "text": [
      "confusion_matrix train is:\n",
      "  [[ 40   0]\n",
      " [  0 116]]\n",
      "confusion_matrix test is: \n",
      " [[ 7  1]\n",
      " [ 4 27]]\n",
      "\n",
      "Classification Report Train is \n",
      "              precision    recall  f1-score   support\n",
      "\n",
      "           0       1.00      1.00      1.00        40\n",
      "           1       1.00      1.00      1.00       116\n",
      "\n",
      "    accuracy                           1.00       156\n",
      "   macro avg       1.00      1.00      1.00       156\n",
      "weighted avg       1.00      1.00      1.00       156\n",
      "\n",
      "\n",
      "Classification Report Test is \n",
      "              precision    recall  f1-score   support\n",
      "\n",
      "           0       0.64      0.88      0.74         8\n",
      "           1       0.96      0.87      0.92        31\n",
      "\n",
      "    accuracy                           0.87        39\n",
      "   macro avg       0.80      0.87      0.83        39\n",
      "weighted avg       0.90      0.87      0.88        39\n",
      "\n"
     ]
    }
   ],
   "source": [
    "print(\"confusion_matrix train is:\\n \", confusion_matrix(y_train, y_pred1))\n",
    "print(\"confusion_matrix test is: \\n\", confusion_matrix(y_test, y_pred2))\n",
    "print('\\nClassification Report Train is ')\n",
    "print(classification_report (y_train, y_pred1))\n",
    "print('\\nClassification Report Test is ')\n",
    "print(classification_report (y_test, y_pred2))"
   ]
  },
  {
   "cell_type": "code",
   "execution_count": 220,
   "id": "eae30369",
   "metadata": {},
   "outputs": [
    {
     "name": "stdout",
     "output_type": "stream",
     "text": [
      "Model accuracy on whole data is:  0.9743589743589743\n"
     ]
    }
   ],
   "source": [
    "y_pred = dt.predict(x)\n",
    "print(\"Model accuracy on whole data is: \", accuracy_score(y, y_pred))"
   ]
  },
  {
   "cell_type": "code",
   "execution_count": 221,
   "id": "d1c923f0",
   "metadata": {},
   "outputs": [
    {
     "name": "stdout",
     "output_type": "stream",
     "text": [
      "confusion_matrix of whole data is:\n",
      "  [[ 47   1]\n",
      " [  4 143]]\n",
      "\n",
      "Classification Report of whole data is \n",
      "              precision    recall  f1-score   support\n",
      "\n",
      "           0       0.92      0.98      0.95        48\n",
      "           1       0.99      0.97      0.98       147\n",
      "\n",
      "    accuracy                           0.97       195\n",
      "   macro avg       0.96      0.98      0.97       195\n",
      "weighted avg       0.98      0.97      0.97       195\n",
      "\n"
     ]
    }
   ],
   "source": [
    "print(\"confusion_matrix of whole data is:\\n \", confusion_matrix(y, y_pred))\n",
    "print('\\nClassification Report of whole data is ')\n",
    "print(classification_report (y, y_pred))"
   ]
  },
  {
   "cell_type": "code",
   "execution_count": 222,
   "id": "f038d1b1",
   "metadata": {},
   "outputs": [
    {
     "name": "stdout",
     "output_type": "stream",
     "text": [
      "5 / 39\n",
      "KappaScore is:  0.654867256637168\n"
     ]
    }
   ],
   "source": [
    "print((y_test !=y_pred2).sum(),'/',((y_test == y_pred2).sum()+(y_test != y_pred2).sum()))\n",
    "print('KappaScore is: ', cohen_kappa_score(y_test,y_pred2))"
   ]
  },
  {
   "cell_type": "code",
   "execution_count": 223,
   "id": "9179d1b6",
   "metadata": {},
   "outputs": [
    {
     "name": "stdout",
     "output_type": "stream",
     "text": [
      "Model accuracy on train is:  0.8782051282051282\n"
     ]
    }
   ],
   "source": [
    "#Support Vector Machine\n",
    "from sklearn.svm import SVC\n",
    "svm = SVC(kernel='linear')\n",
    "svm.fit(x_train, y_train)\n",
    "y_pred1 = svm.predict(x_train)\n",
    "print(\"Model accuracy on train is: \", accuracy_score(y_train, y_pred1))"
   ]
  },
  {
   "cell_type": "code",
   "execution_count": 224,
   "id": "a30dae85",
   "metadata": {},
   "outputs": [
    {
     "name": "stdout",
     "output_type": "stream",
     "text": [
      "Model accuracy on test is:  0.8974358974358975\n"
     ]
    }
   ],
   "source": [
    "y_pred2 = svm.predict(x_test)\n",
    "print(\"Model accuracy on test is: \", accuracy_score(y_test, y_pred2))"
   ]
  },
  {
   "cell_type": "code",
   "execution_count": 225,
   "id": "b6fee6d2",
   "metadata": {},
   "outputs": [
    {
     "name": "stdout",
     "output_type": "stream",
     "text": [
      "confusion_matrix train is: \n",
      " [[ 23  17]\n",
      " [  2 114]]\n",
      "confusion_matrix test is:\n",
      "  [[ 5  3]\n",
      " [ 1 30]]\n",
      "\n",
      "Classification Report Train is \n",
      "              precision    recall  f1-score   support\n",
      "\n",
      "           0       0.92      0.57      0.71        40\n",
      "           1       0.87      0.98      0.92       116\n",
      "\n",
      "    accuracy                           0.88       156\n",
      "   macro avg       0.90      0.78      0.82       156\n",
      "weighted avg       0.88      0.88      0.87       156\n",
      "\n",
      "\n",
      "Classification Report Test is \n",
      "              precision    recall  f1-score   support\n",
      "\n",
      "           0       0.83      0.62      0.71         8\n",
      "           1       0.91      0.97      0.94        31\n",
      "\n",
      "    accuracy                           0.90        39\n",
      "   macro avg       0.87      0.80      0.83        39\n",
      "weighted avg       0.89      0.90      0.89        39\n",
      "\n"
     ]
    }
   ],
   "source": [
    "print(\"confusion_matrix train is: \\n\", confusion_matrix(y_train, y_pred1))\n",
    "print(\"confusion_matrix test is:\\n \", confusion_matrix(y_test, y_pred2))\n",
    "print('\\nClassification Report Train is ')\n",
    "print(classification_report (y_train, y_pred1))\n",
    "print('\\nClassification Report Test is ')\n",
    "print(classification_report (y_test, y_pred2))   "
   ]
  },
  {
   "cell_type": "code",
   "execution_count": 226,
   "id": "4d304f4d",
   "metadata": {},
   "outputs": [
    {
     "name": "stdout",
     "output_type": "stream",
     "text": [
      "Model accuracy on whole data is:  0.882051282051282\n"
     ]
    }
   ],
   "source": [
    "y_pred = svm.predict(x)\n",
    "print(\"Model accuracy on whole data is: \", accuracy_score(y, y_pred))"
   ]
  },
  {
   "cell_type": "code",
   "execution_count": 227,
   "id": "1058820f",
   "metadata": {},
   "outputs": [
    {
     "name": "stdout",
     "output_type": "stream",
     "text": [
      "confusion_matrix of whole data is:\n",
      "  [[ 28  20]\n",
      " [  3 144]]\n",
      "\n",
      "Classification Report of whole data is \n",
      "              precision    recall  f1-score   support\n",
      "\n",
      "           0       0.90      0.58      0.71        48\n",
      "           1       0.88      0.98      0.93       147\n",
      "\n",
      "    accuracy                           0.88       195\n",
      "   macro avg       0.89      0.78      0.82       195\n",
      "weighted avg       0.88      0.88      0.87       195\n",
      "\n"
     ]
    }
   ],
   "source": [
    "print(\"confusion_matrix of whole data is:\\n \", confusion_matrix(y, y_pred))\n",
    "print('\\nClassification Report of whole data is ')\n",
    "print(classification_report (y, y_pred))"
   ]
  },
  {
   "cell_type": "code",
   "execution_count": 228,
   "id": "1f8bf4f2",
   "metadata": {},
   "outputs": [
    {
     "name": "stdout",
     "output_type": "stream",
     "text": [
      "4 / 39\n",
      "KappaScore is:  0.6533333333333333\n"
     ]
    }
   ],
   "source": [
    "print((y_test !=y_pred2).sum(),'/',((y_test == y_pred2).sum()+(y_test != y_pred2).sum()))\n",
    "print('KappaScore is: ', cohen_kappa_score(y_test,y_pred2))"
   ]
  },
  {
   "cell_type": "code",
   "execution_count": 229,
   "id": "574da657",
   "metadata": {},
   "outputs": [
    {
     "name": "stdout",
     "output_type": "stream",
     "text": [
      "Model accuracy on train is:  0.7307692307692307\n"
     ]
    }
   ],
   "source": [
    "#Naive Bayes Classifier\n",
    "from sklearn.naive_bayes import GaussianNB\n",
    "nb=GaussianNB()\n",
    "nb.fit(x_train,y_train)\n",
    "y_pred1 = nb.predict(x_train)\n",
    "print(\"Model accuracy on train is: \", accuracy_score(y_train, y_pred1))"
   ]
  },
  {
   "cell_type": "code",
   "execution_count": 230,
   "id": "16b8f238",
   "metadata": {},
   "outputs": [
    {
     "name": "stdout",
     "output_type": "stream",
     "text": [
      "Model accuracy on test is:  0.6923076923076923\n"
     ]
    }
   ],
   "source": [
    "y_pred2 = nb.predict(x_test)\n",
    "print(\"Model accuracy on test is: \", accuracy_score(y_test, y_pred2))"
   ]
  },
  {
   "cell_type": "code",
   "execution_count": 231,
   "id": "aaf1be1c",
   "metadata": {},
   "outputs": [
    {
     "name": "stdout",
     "output_type": "stream",
     "text": [
      "confusion_matrix train is: \n",
      " [[38  2]\n",
      " [40 76]]\n",
      "confusion_matrix test is:\n",
      "  [[ 8  0]\n",
      " [12 19]]\n",
      "\n",
      "Classification Report Train is \n",
      "              precision    recall  f1-score   support\n",
      "\n",
      "           0       0.49      0.95      0.64        40\n",
      "           1       0.97      0.66      0.78       116\n",
      "\n",
      "    accuracy                           0.73       156\n",
      "   macro avg       0.73      0.80      0.71       156\n",
      "weighted avg       0.85      0.73      0.75       156\n",
      "\n",
      "\n",
      "Classification Report Test is \n",
      "              precision    recall  f1-score   support\n",
      "\n",
      "           0       0.40      1.00      0.57         8\n",
      "           1       1.00      0.61      0.76        31\n",
      "\n",
      "    accuracy                           0.69        39\n",
      "   macro avg       0.70      0.81      0.67        39\n",
      "weighted avg       0.88      0.69      0.72        39\n",
      "\n"
     ]
    }
   ],
   "source": [
    "print(\"confusion_matrix train is: \\n\", confusion_matrix(y_train, y_pred1))\n",
    "print(\"confusion_matrix test is:\\n \", confusion_matrix(y_test, y_pred2))\n",
    "print('\\nClassification Report Train is ')\n",
    "print(classification_report (y_train, y_pred1))\n",
    "print('\\nClassification Report Test is ')\n",
    "print(classification_report (y_test, y_pred2))   "
   ]
  },
  {
   "cell_type": "code",
   "execution_count": 232,
   "id": "c1151a0a",
   "metadata": {},
   "outputs": [
    {
     "name": "stdout",
     "output_type": "stream",
     "text": [
      "Model accuracy on whole data is:  0.7230769230769231\n"
     ]
    }
   ],
   "source": [
    "y_pred = nb.predict(x)\n",
    "print(\"Model accuracy on whole data is: \", accuracy_score(y, y_pred))"
   ]
  },
  {
   "cell_type": "code",
   "execution_count": 233,
   "id": "49aaee2b",
   "metadata": {
    "scrolled": true
   },
   "outputs": [
    {
     "name": "stdout",
     "output_type": "stream",
     "text": [
      "confusion_matrix of whole data is:\n",
      "  [[46  2]\n",
      " [52 95]]\n",
      "\n",
      "Classification Report of whole data is \n",
      "              precision    recall  f1-score   support\n",
      "\n",
      "           0       0.47      0.96      0.63        48\n",
      "           1       0.98      0.65      0.78       147\n",
      "\n",
      "    accuracy                           0.72       195\n",
      "   macro avg       0.72      0.80      0.70       195\n",
      "weighted avg       0.85      0.72      0.74       195\n",
      "\n"
     ]
    }
   ],
   "source": [
    "print(\"confusion_matrix of whole data is:\\n \", confusion_matrix(y, y_pred))\n",
    "print('\\nClassification Report of whole data is ')\n",
    "print(classification_report (y, y_pred))"
   ]
  },
  {
   "cell_type": "code",
   "execution_count": 234,
   "id": "925d812b",
   "metadata": {},
   "outputs": [
    {
     "name": "stdout",
     "output_type": "stream",
     "text": [
      "12 / 39\n",
      "KappaScore is:  0.3937823834196892\n"
     ]
    }
   ],
   "source": [
    "print((y_test !=y_pred2).sum(),'/',((y_test == y_pred2).sum()+(y_test != y_pred2).sum()))\n",
    "print('KappaScore is: ', cohen_kappa_score(y_test,y_pred2))"
   ]
  },
  {
   "cell_type": "code",
   "execution_count": 235,
   "id": "573380d0",
   "metadata": {},
   "outputs": [
    {
     "name": "stdout",
     "output_type": "stream",
     "text": [
      "LogisticRegression : 0.852083 (0.042256)\n",
      "knn : 0.852500 (0.080885)\n",
      "SVC : 0.845417 (0.059612)\n",
      "decision_tree : 0.837917 (0.090378)\n",
      "Naive Bayes : 0.711250 (0.058809)\n"
     ]
    },
    {
     "data": {
      "image/png": "[encoded data removed]",
      "text/plain": [
       "<Figure size 640x480 with 1 Axes>"
      ]
     },
     "metadata": {},
     "output_type": "display_data"
    }
   ],
   "source": [
    "#Comparing all models using boxplot\n",
    "models=[]\n",
    "models.append(('LogisticRegression',lr))\n",
    "models.append(('knn',knn))\n",
    "models.append(('SVC',svm))\n",
    "models.append((\"decision_tree\",dt))\n",
    "models.append(('Naive Bayes',nb))\n",
    "\n",
    "from sklearn.model_selection import KFold\n",
    "from sklearn.model_selection import cross_val_score\n",
    "names=[]\n",
    "predictions=[]\n",
    "error='accuracy'\n",
    "for name,model in models:\n",
    "    fold=KFold(n_splits=10)\n",
    "    result=cross_val_score(model,x_train,y_train,cv=fold,scoring=error)\n",
    "    predictions.append(result)\n",
    "    names.append(name)\n",
    "    msg=\"%s : %f (%f)\"%(name,result.mean(),result.std())\n",
    "    print(msg)\n",
    "    \n",
    "fig=plt.figure()\n",
    "fig.suptitle(\"Comparing Algorithms\")\n",
    "plt.boxplot(predictions)\n",
    "plt.show()"
   ]
  },
  {
   "cell_type": "code",
   "execution_count": 236,
   "id": "68bc6505",
   "metadata": {},
   "outputs": [
    {
     "data": {
      "text/plain": [
       "array([[-0.82929965, -0.43616456, -0.95203729, ...,  0.48047686,\n",
       "        -0.21053082,  0.86888575],\n",
       "       [-0.77097169, -0.53097409, -0.05772056, ...,  1.31118546,\n",
       "         0.27507712,  1.80360503],\n",
       "       [-0.90947638, -0.7231683 , -0.10987483, ...,  1.01768236,\n",
       "        -0.10362861,  1.40266141],\n",
       "       ...,\n",
       "       [ 0.49557839,  0.47010361, -0.96839309, ..., -0.81807931,\n",
       "         0.78033848, -0.83241014],\n",
       "       [ 1.07876114,  2.19004398, -0.95417967, ..., -0.22906571,\n",
       "        -0.63700298, -0.92610456],\n",
       "       [ 1.45481664,  0.69224632, -0.88348115, ..., -0.43085284,\n",
       "         0.45480231, -0.64505466]])"
      ]
     },
     "execution_count": 236,
     "metadata": {},
     "output_type": "execute_result"
    }
   ],
   "source": [
    "#feature scaling\n",
    "from sklearn.preprocessing import StandardScaler\n",
    "sc = StandardScaler()\n",
    "x = sc.fit_transform(x)\n",
    "x"
   ]
  },
  {
   "cell_type": "code",
   "execution_count": 237,
   "id": "eaffcf36",
   "metadata": {},
   "outputs": [
    {
     "name": "stdout",
     "output_type": "stream",
     "text": [
      "(156, 22) (39,) (156, 22) (39,)\n"
     ]
    }
   ],
   "source": [
    "#applying all algorithms after feature scaling\n",
    "x_train,x_test,y_train,y_test=train_test_split(x,y,test_size=0.2,random_state=40)\n",
    "print(x_train.shape,y_test.shape,x_train.shape,y_test.shape)"
   ]
  },
  {
   "cell_type": "code",
   "execution_count": 238,
   "id": "b50d931b",
   "metadata": {},
   "outputs": [
    {
     "name": "stdout",
     "output_type": "stream",
     "text": [
      "Model accuracy on train is:  0.8782051282051282\n"
     ]
    }
   ],
   "source": [
    "lr = LogisticRegression().fit(x_train, y_train)\n",
    "y_pred1 = lr.predict(x_train)\n",
    "print(\"Model accuracy on train is: \", accuracy_score(y_train, y_pred1))"
   ]
  },
  {
   "cell_type": "code",
   "execution_count": 239,
   "id": "870ef482",
   "metadata": {},
   "outputs": [
    {
     "name": "stdout",
     "output_type": "stream",
     "text": [
      "Model accuracy on test is:  0.8461538461538461\n"
     ]
    }
   ],
   "source": [
    "y_pred2 = lr.predict(x_test)\n",
    "print(\"Model accuracy on test is: \", accuracy_score(y_test, y_pred2))"
   ]
  },
  {
   "cell_type": "code",
   "execution_count": 240,
   "id": "b2254a78",
   "metadata": {},
   "outputs": [
    {
     "name": "stdout",
     "output_type": "stream",
     "text": [
      "confusion_matrix train is:\n",
      "  [[ 27  13]\n",
      " [  6 110]]\n",
      "confusion_matrix test is:\n",
      "  [[ 5  3]\n",
      " [ 3 28]]\n",
      "\n",
      "Classification Report Train is \n",
      "              precision    recall  f1-score   support\n",
      "\n",
      "           0       0.82      0.68      0.74        40\n",
      "           1       0.89      0.95      0.92       116\n",
      "\n",
      "    accuracy                           0.88       156\n",
      "   macro avg       0.86      0.81      0.83       156\n",
      "weighted avg       0.87      0.88      0.87       156\n",
      "\n",
      "\n",
      "Classification Report Test is \n",
      "              precision    recall  f1-score   support\n",
      "\n",
      "           0       0.62      0.62      0.62         8\n",
      "           1       0.90      0.90      0.90        31\n",
      "\n",
      "    accuracy                           0.85        39\n",
      "   macro avg       0.76      0.76      0.76        39\n",
      "weighted avg       0.85      0.85      0.85        39\n",
      "\n"
     ]
    }
   ],
   "source": [
    "print(\"confusion_matrix train is:\\n \", confusion_matrix(y_train, y_pred1))\n",
    "print(\"confusion_matrix test is:\\n \", confusion_matrix(y_test, y_pred2))\n",
    "print('\\nClassification Report Train is ')\n",
    "print(classification_report (y_train, y_pred1))\n",
    "print('\\nClassification Report Test is ')\n",
    "print(classification_report (y_test, y_pred2))"
   ]
  },
  {
   "cell_type": "code",
   "execution_count": 241,
   "id": "faabaa62",
   "metadata": {},
   "outputs": [
    {
     "name": "stdout",
     "output_type": "stream",
     "text": [
      "Model accuracy on whole data is:  0.8717948717948718\n"
     ]
    }
   ],
   "source": [
    "y_pred = lr.predict(x)\n",
    "print(\"Model accuracy on whole data is: \", accuracy_score(y, y_pred))"
   ]
  },
  {
   "cell_type": "code",
   "execution_count": 242,
   "id": "bd9a1991",
   "metadata": {},
   "outputs": [
    {
     "name": "stdout",
     "output_type": "stream",
     "text": [
      "confusion_matrix of whole data is:\n",
      "  [[ 32  16]\n",
      " [  9 138]]\n",
      "\n",
      "Classification Report of whole data is \n",
      "              precision    recall  f1-score   support\n",
      "\n",
      "           0       0.78      0.67      0.72        48\n",
      "           1       0.90      0.94      0.92       147\n",
      "\n",
      "    accuracy                           0.87       195\n",
      "   macro avg       0.84      0.80      0.82       195\n",
      "weighted avg       0.87      0.87      0.87       195\n",
      "\n"
     ]
    }
   ],
   "source": [
    "print(\"confusion_matrix of whole data is:\\n \", confusion_matrix(y, y_pred))\n",
    "print('\\nClassification Report of whole data is ')\n",
    "print(classification_report (y, y_pred))"
   ]
  },
  {
   "cell_type": "code",
   "execution_count": 243,
   "id": "fa934c50",
   "metadata": {},
   "outputs": [
    {
     "name": "stdout",
     "output_type": "stream",
     "text": [
      "6 / 39\n",
      "KappaScore is:  0.5282258064516129\n"
     ]
    }
   ],
   "source": [
    "from sklearn.metrics import cohen_kappa_score\n",
    "print((y_test !=y_pred2).sum(),'/',((y_test == y_pred2).sum()+(y_test != y_pred2).sum()))\n",
    "print('KappaScore is: ', cohen_kappa_score(y_test,y_pred2))"
   ]
  },
  {
   "cell_type": "code",
   "execution_count": 244,
   "id": "40f53c6f",
   "metadata": {},
   "outputs": [
    {
     "name": "stdout",
     "output_type": "stream",
     "text": [
      "Model accuracy on train is:  0.9487179487179487\n"
     ]
    }
   ],
   "source": [
    "#KNN\n",
    "from sklearn.neighbors import KNeighborsClassifier\n",
    "knn = KNeighborsClassifier().fit(x_train,y_train)\n",
    "y_pred1 = knn.predict(x_train)\n",
    "print(\"Model accuracy on train is: \", accuracy_score(y_train, y_pred1))"
   ]
  },
  {
   "cell_type": "code",
   "execution_count": 245,
   "id": "ebd15067",
   "metadata": {},
   "outputs": [
    {
     "name": "stdout",
     "output_type": "stream",
     "text": [
      "Model accuracy on test is:  0.9230769230769231\n"
     ]
    }
   ],
   "source": [
    "y_pred2 = knn.predict(x_test)\n",
    "print(\"Model accuracy on test is: \", accuracy_score(y_test, y_pred2))"
   ]
  },
  {
   "cell_type": "code",
   "execution_count": 246,
   "id": "01860c71",
   "metadata": {},
   "outputs": [
    {
     "name": "stdout",
     "output_type": "stream",
     "text": [
      "confusion_matrix train is:\n",
      "  [[ 35   5]\n",
      " [  3 113]]\n",
      "confusion_matrix test is:\n",
      "  [[ 6  2]\n",
      " [ 1 30]]\n",
      "\n",
      "Classification Report Train is \n",
      "              precision    recall  f1-score   support\n",
      "\n",
      "           0       0.92      0.88      0.90        40\n",
      "           1       0.96      0.97      0.97       116\n",
      "\n",
      "    accuracy                           0.95       156\n",
      "   macro avg       0.94      0.92      0.93       156\n",
      "weighted avg       0.95      0.95      0.95       156\n",
      "\n",
      "\n",
      "Classification Report Test is \n",
      "              precision    recall  f1-score   support\n",
      "\n",
      "           0       0.86      0.75      0.80         8\n",
      "           1       0.94      0.97      0.95        31\n",
      "\n",
      "    accuracy                           0.92        39\n",
      "   macro avg       0.90      0.86      0.88        39\n",
      "weighted avg       0.92      0.92      0.92        39\n",
      "\n"
     ]
    }
   ],
   "source": [
    "print(\"confusion_matrix train is:\\n \", confusion_matrix(y_train, y_pred1))\n",
    "print(\"confusion_matrix test is:\\n \", confusion_matrix(y_test, y_pred2))\n",
    "print('\\nClassification Report Train is ')\n",
    "print(classification_report (y_train, y_pred1))\n",
    "print('\\nClassification Report Test is ')\n",
    "print(classification_report (y_test, y_pred2))"
   ]
  },
  {
   "cell_type": "code",
   "execution_count": 247,
   "id": "0e4be018",
   "metadata": {},
   "outputs": [
    {
     "name": "stdout",
     "output_type": "stream",
     "text": [
      "Model accuracy on whole data is:  0.9435897435897436\n"
     ]
    }
   ],
   "source": [
    "y_pred = knn.predict(x)\n",
    "print(\"Model accuracy on whole data is: \", accuracy_score(y, y_pred))"
   ]
  },
  {
   "cell_type": "code",
   "execution_count": 248,
   "id": "66759bad",
   "metadata": {},
   "outputs": [
    {
     "name": "stdout",
     "output_type": "stream",
     "text": [
      "confusion_matrix of whole data is:\n",
      "  [[ 41   7]\n",
      " [  4 143]]\n",
      "\n",
      "Classification Report of whole data is \n",
      "              precision    recall  f1-score   support\n",
      "\n",
      "           0       0.91      0.85      0.88        48\n",
      "           1       0.95      0.97      0.96       147\n",
      "\n",
      "    accuracy                           0.94       195\n",
      "   macro avg       0.93      0.91      0.92       195\n",
      "weighted avg       0.94      0.94      0.94       195\n",
      "\n"
     ]
    }
   ],
   "source": [
    "print(\"confusion_matrix of whole data is:\\n \", confusion_matrix(y, y_pred))\n",
    "print('\\nClassification Report of whole data is ')\n",
    "print(classification_report (y, y_pred))"
   ]
  },
  {
   "cell_type": "code",
   "execution_count": 249,
   "id": "990118c6",
   "metadata": {},
   "outputs": [
    {
     "name": "stdout",
     "output_type": "stream",
     "text": [
      "3 / 39\n",
      "KappaScore is:  0.7526427061310782\n"
     ]
    }
   ],
   "source": [
    "print((y_test !=y_pred2).sum(),'/',((y_test == y_pred2).sum()+(y_test != y_pred2).sum()))\n",
    "print('KappaScore is: ', cohen_kappa_score(y_test,y_pred2))"
   ]
  },
  {
   "cell_type": "code",
   "execution_count": 250,
   "id": "6514720d",
   "metadata": {},
   "outputs": [
    {
     "name": "stdout",
     "output_type": "stream",
     "text": [
      "Model accuracy on train is:  1.0\n"
     ]
    }
   ],
   "source": [
    "from sklearn.tree import DecisionTreeClassifier\n",
    "dt = DecisionTreeClassifier().fit(x_train,y_train)\n",
    "y_pred1 = dt.predict(x_train)\n",
    "print(\"Model accuracy on train is: \", accuracy_score(y_train, y_pred1))"
   ]
  },
  {
   "cell_type": "code",
   "execution_count": 251,
   "id": "588338bd",
   "metadata": {},
   "outputs": [
    {
     "name": "stdout",
     "output_type": "stream",
     "text": [
      "Model accuracy on test is:  0.8461538461538461\n"
     ]
    }
   ],
   "source": [
    "y_pred2 = dt.predict(x_test)\n",
    "print(\"Model accuracy on test is: \", accuracy_score(y_test, y_pred2))"
   ]
  },
  {
   "cell_type": "code",
   "execution_count": 252,
   "id": "0d70d5f7",
   "metadata": {},
   "outputs": [
    {
     "name": "stdout",
     "output_type": "stream",
     "text": [
      "confusion_matrix train is:\n",
      "  [[ 40   0]\n",
      " [  0 116]]\n",
      "confusion_matrix test is: \n",
      " [[ 5  3]\n",
      " [ 3 28]]\n",
      "\n",
      "Classification Report Train is \n",
      "              precision    recall  f1-score   support\n",
      "\n",
      "           0       1.00      1.00      1.00        40\n",
      "           1       1.00      1.00      1.00       116\n",
      "\n",
      "    accuracy                           1.00       156\n",
      "   macro avg       1.00      1.00      1.00       156\n",
      "weighted avg       1.00      1.00      1.00       156\n",
      "\n",
      "\n",
      "Classification Report Test is \n",
      "              precision    recall  f1-score   support\n",
      "\n",
      "           0       0.62      0.62      0.62         8\n",
      "           1       0.90      0.90      0.90        31\n",
      "\n",
      "    accuracy                           0.85        39\n",
      "   macro avg       0.76      0.76      0.76        39\n",
      "weighted avg       0.85      0.85      0.85        39\n",
      "\n"
     ]
    }
   ],
   "source": [
    "print(\"confusion_matrix train is:\\n \", confusion_matrix(y_train, y_pred1))\n",
    "print(\"confusion_matrix test is: \\n\", confusion_matrix(y_test, y_pred2))\n",
    "print('\\nClassification Report Train is ')\n",
    "print(classification_report (y_train, y_pred1))\n",
    "print('\\nClassification Report Test is ')\n",
    "print(classification_report (y_test, y_pred2))"
   ]
  },
  {
   "cell_type": "code",
   "execution_count": 253,
   "id": "62b8e8df",
   "metadata": {},
   "outputs": [
    {
     "name": "stdout",
     "output_type": "stream",
     "text": [
      "Model accuracy on whole data is:  0.9692307692307692\n"
     ]
    }
   ],
   "source": [
    "y_pred = dt.predict(x)\n",
    "print(\"Model accuracy on whole data is: \", accuracy_score(y, y_pred))"
   ]
  },
  {
   "cell_type": "code",
   "execution_count": 254,
   "id": "b957e833",
   "metadata": {},
   "outputs": [
    {
     "name": "stdout",
     "output_type": "stream",
     "text": [
      "confusion_matrix of whole data is:\n",
      "  [[ 45   3]\n",
      " [  3 144]]\n",
      "\n",
      "Classification Report of whole data is \n",
      "              precision    recall  f1-score   support\n",
      "\n",
      "           0       0.94      0.94      0.94        48\n",
      "           1       0.98      0.98      0.98       147\n",
      "\n",
      "    accuracy                           0.97       195\n",
      "   macro avg       0.96      0.96      0.96       195\n",
      "weighted avg       0.97      0.97      0.97       195\n",
      "\n"
     ]
    }
   ],
   "source": [
    "print(\"confusion_matrix of whole data is:\\n \", confusion_matrix(y, y_pred))\n",
    "print('\\nClassification Report of whole data is ')\n",
    "print(classification_report (y, y_pred))"
   ]
  },
  {
   "cell_type": "code",
   "execution_count": 255,
   "id": "2334119a",
   "metadata": {},
   "outputs": [
    {
     "name": "stdout",
     "output_type": "stream",
     "text": [
      "6 / 39\n",
      "KappaScore is:  0.5282258064516129\n"
     ]
    }
   ],
   "source": [
    "print((y_test !=y_pred2).sum(),'/',((y_test == y_pred2).sum()+(y_test != y_pred2).sum()))\n",
    "print('KappaScore is: ', cohen_kappa_score(y_test,y_pred2))"
   ]
  },
  {
   "cell_type": "code",
   "execution_count": 256,
   "id": "50fe7c43",
   "metadata": {},
   "outputs": [
    {
     "name": "stdout",
     "output_type": "stream",
     "text": [
      "Model accuracy on train is:  0.9166666666666666\n"
     ]
    }
   ],
   "source": [
    "from sklearn.svm import SVC\n",
    "svm = SVC(kernel='linear')\n",
    "svm.fit(x_train, y_train)\n",
    "y_pred1 = svm.predict(x_train)\n",
    "print(\"Model accuracy on train is: \", accuracy_score(y_train, y_pred1))"
   ]
  },
  {
   "cell_type": "code",
   "execution_count": 257,
   "id": "357b7883",
   "metadata": {},
   "outputs": [
    {
     "name": "stdout",
     "output_type": "stream",
     "text": [
      "Model accuracy on test is:  0.9230769230769231\n"
     ]
    }
   ],
   "source": [
    "y_pred2 = svm.predict(x_test)\n",
    "print(\"Model accuracy on test is: \", accuracy_score(y_test, y_pred2))"
   ]
  },
  {
   "cell_type": "code",
   "execution_count": 258,
   "id": "3aade139",
   "metadata": {},
   "outputs": [
    {
     "name": "stdout",
     "output_type": "stream",
     "text": [
      "confusion_matrix train is: \n",
      " [[ 28  12]\n",
      " [  1 115]]\n",
      "confusion_matrix test is:\n",
      "  [[ 5  3]\n",
      " [ 0 31]]\n",
      "\n",
      "Classification Report Train is \n",
      "              precision    recall  f1-score   support\n",
      "\n",
      "           0       0.97      0.70      0.81        40\n",
      "           1       0.91      0.99      0.95       116\n",
      "\n",
      "    accuracy                           0.92       156\n",
      "   macro avg       0.94      0.85      0.88       156\n",
      "weighted avg       0.92      0.92      0.91       156\n",
      "\n",
      "\n",
      "Classification Report Test is \n",
      "              precision    recall  f1-score   support\n",
      "\n",
      "           0       1.00      0.62      0.77         8\n",
      "           1       0.91      1.00      0.95        31\n",
      "\n",
      "    accuracy                           0.92        39\n",
      "   macro avg       0.96      0.81      0.86        39\n",
      "weighted avg       0.93      0.92      0.92        39\n",
      "\n"
     ]
    }
   ],
   "source": [
    "print(\"confusion_matrix train is: \\n\", confusion_matrix(y_train, y_pred1))\n",
    "print(\"confusion_matrix test is:\\n \", confusion_matrix(y_test, y_pred2))\n",
    "print('\\nClassification Report Train is ')\n",
    "print(classification_report (y_train, y_pred1))\n",
    "print('\\nClassification Report Test is ')\n",
    "print(classification_report (y_test, y_pred2))   "
   ]
  },
  {
   "cell_type": "code",
   "execution_count": 259,
   "id": "ad3a77e9",
   "metadata": {},
   "outputs": [
    {
     "name": "stdout",
     "output_type": "stream",
     "text": [
      "Model accuracy on whole data is:  0.9179487179487179\n"
     ]
    }
   ],
   "source": [
    "y_pred = svm.predict(x)\n",
    "print(\"Model accuracy on whole data is: \", accuracy_score(y, y_pred))"
   ]
  },
  {
   "cell_type": "code",
   "execution_count": 260,
   "id": "fcda0497",
   "metadata": {},
   "outputs": [
    {
     "name": "stdout",
     "output_type": "stream",
     "text": [
      "confusion_matrix of whole data is:\n",
      "  [[ 33  15]\n",
      " [  1 146]]\n",
      "\n",
      "Classification Report of whole data is \n",
      "              precision    recall  f1-score   support\n",
      "\n",
      "           0       0.97      0.69      0.80        48\n",
      "           1       0.91      0.99      0.95       147\n",
      "\n",
      "    accuracy                           0.92       195\n",
      "   macro avg       0.94      0.84      0.88       195\n",
      "weighted avg       0.92      0.92      0.91       195\n",
      "\n"
     ]
    }
   ],
   "source": [
    "print(\"confusion_matrix of whole data is:\\n \", confusion_matrix(y, y_pred))\n",
    "print('\\nClassification Report of whole data is ')\n",
    "print(classification_report (y, y_pred))"
   ]
  },
  {
   "cell_type": "code",
   "execution_count": 261,
   "id": "2a059551",
   "metadata": {},
   "outputs": [
    {
     "name": "stdout",
     "output_type": "stream",
     "text": [
      "3 / 39\n",
      "KappaScore is:  0.7259953161592506\n"
     ]
    }
   ],
   "source": [
    "print((y_test !=y_pred2).sum(),'/',((y_test == y_pred2).sum()+(y_test != y_pred2).sum()))\n",
    "print('KappaScore is: ', cohen_kappa_score(y_test,y_pred2))"
   ]
  },
  {
   "cell_type": "code",
   "execution_count": 262,
   "id": "81bac3f5",
   "metadata": {},
   "outputs": [
    {
     "name": "stdout",
     "output_type": "stream",
     "text": [
      "Model accuracy on train is:  0.7051282051282052\n"
     ]
    }
   ],
   "source": [
    "from sklearn.naive_bayes import GaussianNB\n",
    "nb=GaussianNB()\n",
    "nb.fit(x_train,y_train)\n",
    "y_pred1 = nb.predict(x_train)\n",
    "print(\"Model accuracy on train is: \", accuracy_score(y_train, y_pred1))"
   ]
  },
  {
   "cell_type": "code",
   "execution_count": 263,
   "id": "99303343",
   "metadata": {},
   "outputs": [
    {
     "name": "stdout",
     "output_type": "stream",
     "text": [
      "Model accuracy on test is:  0.6923076923076923\n"
     ]
    }
   ],
   "source": [
    "y_pred2 = nb.predict(x_test)\n",
    "print(\"Model accuracy on test is: \", accuracy_score(y_test, y_pred2))"
   ]
  },
  {
   "cell_type": "code",
   "execution_count": 264,
   "id": "52891713",
   "metadata": {},
   "outputs": [
    {
     "name": "stdout",
     "output_type": "stream",
     "text": [
      "confusion_matrix train is: \n",
      " [[37  3]\n",
      " [43 73]]\n",
      "confusion_matrix test is:\n",
      "  [[ 8  0]\n",
      " [12 19]]\n",
      "\n",
      "Classification Report Train is \n",
      "              precision    recall  f1-score   support\n",
      "\n",
      "           0       0.46      0.93      0.62        40\n",
      "           1       0.96      0.63      0.76       116\n",
      "\n",
      "    accuracy                           0.71       156\n",
      "   macro avg       0.71      0.78      0.69       156\n",
      "weighted avg       0.83      0.71      0.72       156\n",
      "\n",
      "\n",
      "Classification Report Test is \n",
      "              precision    recall  f1-score   support\n",
      "\n",
      "           0       0.40      1.00      0.57         8\n",
      "           1       1.00      0.61      0.76        31\n",
      "\n",
      "    accuracy                           0.69        39\n",
      "   macro avg       0.70      0.81      0.67        39\n",
      "weighted avg       0.88      0.69      0.72        39\n",
      "\n"
     ]
    }
   ],
   "source": [
    "print(\"confusion_matrix train is: \\n\", confusion_matrix(y_train, y_pred1))\n",
    "print(\"confusion_matrix test is:\\n \", confusion_matrix(y_test, y_pred2))\n",
    "print('\\nClassification Report Train is ')\n",
    "print(classification_report (y_train, y_pred1))\n",
    "print('\\nClassification Report Test is ')\n",
    "print(classification_report (y_test, y_pred2))   "
   ]
  },
  {
   "cell_type": "code",
   "execution_count": 265,
   "id": "7ea7172f",
   "metadata": {},
   "outputs": [
    {
     "name": "stdout",
     "output_type": "stream",
     "text": [
      "Model accuracy on whole data is:  0.7025641025641025\n"
     ]
    }
   ],
   "source": [
    "y_pred = nb.predict(x)\n",
    "print(\"Model accuracy on whole data is: \", accuracy_score(y, y_pred))"
   ]
  },
  {
   "cell_type": "code",
   "execution_count": 266,
   "id": "fb4da5b5",
   "metadata": {},
   "outputs": [
    {
     "name": "stdout",
     "output_type": "stream",
     "text": [
      "confusion_matrix of whole data is:\n",
      "  [[45  3]\n",
      " [55 92]]\n",
      "\n",
      "Classification Report of whole data is \n",
      "              precision    recall  f1-score   support\n",
      "\n",
      "           0       0.45      0.94      0.61        48\n",
      "           1       0.97      0.63      0.76       147\n",
      "\n",
      "    accuracy                           0.70       195\n",
      "   macro avg       0.71      0.78      0.68       195\n",
      "weighted avg       0.84      0.70      0.72       195\n",
      "\n"
     ]
    }
   ],
   "source": [
    "print(\"confusion_matrix of whole data is:\\n \", confusion_matrix(y, y_pred))\n",
    "print('\\nClassification Report of whole data is ')\n",
    "print(classification_report (y, y_pred))"
   ]
  },
  {
   "cell_type": "code",
   "execution_count": 267,
   "id": "ea1c9d2d",
   "metadata": {},
   "outputs": [
    {
     "name": "stdout",
     "output_type": "stream",
     "text": [
      "12 / 39\n",
      "KappaScore is:  0.3937823834196892\n"
     ]
    }
   ],
   "source": [
    "print((y_test !=y_pred2).sum(),'/',((y_test == y_pred2).sum()+(y_test != y_pred2).sum()))\n",
    "print('KappaScore is: ', cohen_kappa_score(y_test,y_pred2))"
   ]
  },
  {
   "cell_type": "code",
   "execution_count": 268,
   "id": "930d82ad",
   "metadata": {},
   "outputs": [
    {
     "name": "stdout",
     "output_type": "stream",
     "text": [
      "LogisticRegression : 0.851667 (0.060012)\n",
      "knn : 0.942083 (0.046415)\n",
      "SVC : 0.865417 (0.044684)\n",
      "decision_tree : 0.857917 (0.076204)\n",
      "Naive Bayes : 0.698750 (0.055810)\n"
     ]
    },
    {
     "data": {
      "image/png": "[encoded data removed]",
      "text/plain": [
       "<Figure size 640x480 with 1 Axes>"
      ]
     },
     "metadata": {},
     "output_type": "display_data"
    }
   ],
   "source": [
    "#Comparing all models using boxplot\n",
    "models=[]\n",
    "models.append(('LogisticRegression',lr))\n",
    "models.append(('knn',knn))\n",
    "models.append(('SVC',svm))\n",
    "models.append((\"decision_tree\",dt))\n",
    "models.append(('Naive Bayes',nb))\n",
    "\n",
    "from sklearn.model_selection import KFold\n",
    "from sklearn.model_selection import cross_val_score\n",
    "names=[]\n",
    "predictions=[]\n",
    "error='accuracy'\n",
    "for name,model in models:\n",
    "    fold=KFold(n_splits=10)\n",
    "    result=cross_val_score(model,x_train,y_train,cv=fold,scoring=error)\n",
    "    predictions.append(result)\n",
    "    names.append(name)\n",
    "    msg=\"%s : %f (%f)\"%(name,result.mean(),result.std())\n",
    "    print(msg)\n",
    "    \n",
    "fig=plt.figure()\n",
    "fig.suptitle(\"Comparing Algorithms\")\n",
    "plt.boxplot(predictions)\n",
    "plt.show()"
   ]
  },
  {
   "cell_type": "code",
   "execution_count": 269,
   "id": "95fce12a",
   "metadata": {},
   "outputs": [
    {
     "name": "stdout",
     "output_type": "stream",
     "text": [
      "Model Accuracy On Train is :  1.0\n"
     ]
    }
   ],
   "source": [
    "from sklearn.ensemble import AdaBoostClassifier\n",
    "ab = AdaBoostClassifier()\n",
    "ab.fit(x_train,y_train)\n",
    "y_pred1 = ab.predict(x_train)\n",
    "print(\"Model Accuracy On Train is : \",accuracy_score(y_train,y_pred1))"
   ]
  },
  {
   "cell_type": "code",
   "execution_count": 270,
   "id": "312f7ed7",
   "metadata": {},
   "outputs": [
    {
     "name": "stdout",
     "output_type": "stream",
     "text": [
      "Model Accuracy On Test is :  0.9743589743589743\n"
     ]
    }
   ],
   "source": [
    "y_pred2 = ab.predict(x_test)\n",
    "print(\"Model Accuracy On Test is : \",accuracy_score(y_test,y_pred2))"
   ]
  },
  {
   "cell_type": "code",
   "execution_count": 271,
   "id": "f2142bf2",
   "metadata": {},
   "outputs": [
    {
     "name": "stdout",
     "output_type": "stream",
     "text": [
      "confusion_matrix train is:\n",
      "  [[ 40   0]\n",
      " [  0 116]]\n",
      "confusion_matrix test is:\n",
      "  [[ 7  1]\n",
      " [ 0 31]]\n",
      "\n",
      "Classification Report Train is \n",
      "              precision    recall  f1-score   support\n",
      "\n",
      "           0       1.00      1.00      1.00        40\n",
      "           1       1.00      1.00      1.00       116\n",
      "\n",
      "    accuracy                           1.00       156\n",
      "   macro avg       1.00      1.00      1.00       156\n",
      "weighted avg       1.00      1.00      1.00       156\n",
      "\n",
      "\n",
      "Classification Report Test is \n",
      "              precision    recall  f1-score   support\n",
      "\n",
      "           0       1.00      0.88      0.93         8\n",
      "           1       0.97      1.00      0.98        31\n",
      "\n",
      "    accuracy                           0.97        39\n",
      "   macro avg       0.98      0.94      0.96        39\n",
      "weighted avg       0.98      0.97      0.97        39\n",
      "\n"
     ]
    }
   ],
   "source": [
    "print(\"confusion_matrix train is:\\n \", confusion_matrix(y_train, y_pred1))\n",
    "print(\"confusion_matrix test is:\\n \", confusion_matrix(y_test, y_pred2))\n",
    "print('\\nClassification Report Train is ')\n",
    "print(classification_report (y_train, y_pred1))\n",
    "print('\\nClassification Report Test is ')\n",
    "print(classification_report (y_test, y_pred2))"
   ]
  },
  {
   "cell_type": "code",
   "execution_count": 272,
   "id": "725a6c23",
   "metadata": {},
   "outputs": [
    {
     "name": "stdout",
     "output_type": "stream",
     "text": [
      "Model accuracy on whole data is:  0.9948717948717949\n"
     ]
    }
   ],
   "source": [
    "y_pred = ab.predict(x)\n",
    "print(\"Model accuracy on whole data is: \", accuracy_score(y, y_pred))"
   ]
  },
  {
   "cell_type": "code",
   "execution_count": 273,
   "id": "c9d26a68",
   "metadata": {},
   "outputs": [
    {
     "name": "stdout",
     "output_type": "stream",
     "text": [
      "confusion_matrix of whole data is:\n",
      "  [[ 47   1]\n",
      " [  0 147]]\n",
      "\n",
      "Classification Report of whole data is \n",
      "              precision    recall  f1-score   support\n",
      "\n",
      "           0       1.00      0.98      0.99        48\n",
      "           1       0.99      1.00      1.00       147\n",
      "\n",
      "    accuracy                           0.99       195\n",
      "   macro avg       1.00      0.99      0.99       195\n",
      "weighted avg       0.99      0.99      0.99       195\n",
      "\n"
     ]
    }
   ],
   "source": [
    "print(\"confusion_matrix of whole data is:\\n \", confusion_matrix(y, y_pred))\n",
    "print('\\nClassification Report of whole data is ')\n",
    "print(classification_report (y, y_pred))"
   ]
  },
  {
   "cell_type": "code",
   "execution_count": 274,
   "id": "ff5002f9",
   "metadata": {},
   "outputs": [
    {
     "name": "stdout",
     "output_type": "stream",
     "text": [
      "1 / 39\n",
      "KappaScore is:  0.9175475687103594\n"
     ]
    }
   ],
   "source": [
    "print((y_test != y_pred2).sum(),'/',((y_test == y_pred2).sum()+(y_test != y_pred2).sum()))\n",
    "print('KappaScore is: ', cohen_kappa_score(y_test,y_pred2))"
   ]
  },
  {
   "cell_type": "code",
   "execution_count": 275,
   "id": "e2c35574",
   "metadata": {},
   "outputs": [
    {
     "name": "stdout",
     "output_type": "stream",
     "text": [
      "Model accuracy on train is:  0.9935897435897436\n"
     ]
    }
   ],
   "source": [
    "from sklearn.ensemble import RandomForestClassifier\n",
    "rf=RandomForestClassifier(n_estimators=10).fit(x_train,y_train)\n",
    "y_pred1 = rf.predict(x_train)\n",
    "print(\"Model accuracy on train is: \", accuracy_score(y_train, y_pred1))"
   ]
  },
  {
   "cell_type": "code",
   "execution_count": 276,
   "id": "0fda3c2b",
   "metadata": {},
   "outputs": [
    {
     "name": "stdout",
     "output_type": "stream",
     "text": [
      "Model accuracy on test is:  0.9230769230769231\n"
     ]
    }
   ],
   "source": [
    "y_pred2 = rf.predict(x_test)\n",
    "print(\"Model accuracy on test is: \", accuracy_score(y_test, y_pred2))"
   ]
  },
  {
   "cell_type": "code",
   "execution_count": 277,
   "id": "a287db15",
   "metadata": {},
   "outputs": [
    {
     "name": "stdout",
     "output_type": "stream",
     "text": [
      "confusion_matrix train is:\n",
      "  [[ 40   0]\n",
      " [  1 115]]\n",
      "confusion_matrix test is:\n",
      "  [[ 7  1]\n",
      " [ 2 29]]\n",
      "\n",
      "Classification Report Train is \n",
      "              precision    recall  f1-score   support\n",
      "\n",
      "           0       0.98      1.00      0.99        40\n",
      "           1       1.00      0.99      1.00       116\n",
      "\n",
      "    accuracy                           0.99       156\n",
      "   macro avg       0.99      1.00      0.99       156\n",
      "weighted avg       0.99      0.99      0.99       156\n",
      "\n",
      "\n",
      "Classification Report Test is \n",
      "              precision    recall  f1-score   support\n",
      "\n",
      "           0       0.78      0.88      0.82         8\n",
      "           1       0.97      0.94      0.95        31\n",
      "\n",
      "    accuracy                           0.92        39\n",
      "   macro avg       0.87      0.91      0.89        39\n",
      "weighted avg       0.93      0.92      0.92        39\n",
      "\n"
     ]
    }
   ],
   "source": [
    "print(\"confusion_matrix train is:\\n \", confusion_matrix(y_train, y_pred1))\n",
    "print(\"confusion_matrix test is:\\n \", confusion_matrix(y_test, y_pred2))\n",
    "print('\\nClassification Report Train is ')\n",
    "print(classification_report (y_train, y_pred1))\n",
    "print('\\nClassification Report Test is ')\n",
    "print(classification_report (y_test, y_pred2))"
   ]
  },
  {
   "cell_type": "code",
   "execution_count": 278,
   "id": "1b8f5645",
   "metadata": {},
   "outputs": [
    {
     "name": "stdout",
     "output_type": "stream",
     "text": [
      "Model accuracy on whole data is:  0.9794871794871794\n"
     ]
    }
   ],
   "source": [
    "y_pred = rf.predict(x)\n",
    "print(\"Model accuracy on whole data is: \", accuracy_score(y, y_pred))"
   ]
  },
  {
   "cell_type": "code",
   "execution_count": 279,
   "id": "86ff4445",
   "metadata": {},
   "outputs": [
    {
     "name": "stdout",
     "output_type": "stream",
     "text": [
      "confusion_matrix of whole data is:\n",
      "  [[ 47   1]\n",
      " [  3 144]]\n",
      "\n",
      "Classification Report of whole data is \n",
      "              precision    recall  f1-score   support\n",
      "\n",
      "           0       0.94      0.98      0.96        48\n",
      "           1       0.99      0.98      0.99       147\n",
      "\n",
      "    accuracy                           0.98       195\n",
      "   macro avg       0.97      0.98      0.97       195\n",
      "weighted avg       0.98      0.98      0.98       195\n",
      "\n"
     ]
    }
   ],
   "source": [
    "print(\"confusion_matrix of whole data is:\\n \", confusion_matrix(y, y_pred))\n",
    "print('\\nClassification Report of whole data is ')\n",
    "print(classification_report (y, y_pred))"
   ]
  },
  {
   "cell_type": "code",
   "execution_count": 280,
   "id": "14b7b7e6",
   "metadata": {},
   "outputs": [
    {
     "name": "stdout",
     "output_type": "stream",
     "text": [
      "3 / 39\n",
      "KappaScore is:  0.7745664739884393\n"
     ]
    }
   ],
   "source": [
    "print((y_test != y_pred2).sum(),'/',((y_test == y_pred2).sum()+(y_test != y_pred2).sum()))\n",
    "print('KappaScore is: ', cohen_kappa_score(y_test,y_pred2))"
   ]
  },
  {
   "cell_type": "code",
   "execution_count": 281,
   "id": "885ff249",
   "metadata": {},
   "outputs": [
    {
     "name": "stdout",
     "output_type": "stream",
     "text": [
      "Model accuracy on train is:  1.0\n"
     ]
    }
   ],
   "source": [
    "from sklearn.ensemble import ExtraTreesClassifier\n",
    "et=ExtraTreesClassifier(n_estimators=10).fit(x_train,y_train)\n",
    "y_pred1 = et.predict(x_train)\n",
    "print(\"Model accuracy on train is: \", accuracy_score(y_train, y_pred1))"
   ]
  },
  {
   "cell_type": "code",
   "execution_count": 282,
   "id": "b5ee3b23",
   "metadata": {},
   "outputs": [
    {
     "name": "stdout",
     "output_type": "stream",
     "text": [
      "Model accuracy on test is:  0.9487179487179487\n"
     ]
    }
   ],
   "source": [
    "y_pred2 = et.predict(x_test)\n",
    "print(\"Model accuracy on test is: \", accuracy_score(y_test, y_pred2))"
   ]
  },
  {
   "cell_type": "code",
   "execution_count": 283,
   "id": "3b7bb657",
   "metadata": {},
   "outputs": [
    {
     "name": "stdout",
     "output_type": "stream",
     "text": [
      "confusion_matrix train is:\n",
      "  [[ 40   0]\n",
      " [  0 116]]\n",
      "confusion_matrix test is:\n",
      "  [[ 8  0]\n",
      " [ 2 29]]\n",
      "\n",
      "Classification Report Train is \n",
      "              precision    recall  f1-score   support\n",
      "\n",
      "           0       1.00      1.00      1.00        40\n",
      "           1       1.00      1.00      1.00       116\n",
      "\n",
      "    accuracy                           1.00       156\n",
      "   macro avg       1.00      1.00      1.00       156\n",
      "weighted avg       1.00      1.00      1.00       156\n",
      "\n",
      "\n",
      "Classification Report Test is \n",
      "              precision    recall  f1-score   support\n",
      "\n",
      "           0       0.80      1.00      0.89         8\n",
      "           1       1.00      0.94      0.97        31\n",
      "\n",
      "    accuracy                           0.95        39\n",
      "   macro avg       0.90      0.97      0.93        39\n",
      "weighted avg       0.96      0.95      0.95        39\n",
      "\n"
     ]
    }
   ],
   "source": [
    "print(\"confusion_matrix train is:\\n \", confusion_matrix(y_train, y_pred1))\n",
    "print(\"confusion_matrix test is:\\n \", confusion_matrix(y_test, y_pred2))\n",
    "print('\\nClassification Report Train is ')\n",
    "print(classification_report (y_train, y_pred1))\n",
    "print('\\nClassification Report Test is ')\n",
    "print(classification_report (y_test, y_pred2))"
   ]
  },
  {
   "cell_type": "code",
   "execution_count": 284,
   "id": "24c2e513",
   "metadata": {},
   "outputs": [
    {
     "name": "stdout",
     "output_type": "stream",
     "text": [
      "Model accuracy on whole data is:  0.9897435897435898\n"
     ]
    }
   ],
   "source": [
    "y_pred = et.predict(x)\n",
    "print(\"Model accuracy on whole data is: \", accuracy_score(y, y_pred))"
   ]
  },
  {
   "cell_type": "code",
   "execution_count": 285,
   "id": "93e48547",
   "metadata": {},
   "outputs": [
    {
     "name": "stdout",
     "output_type": "stream",
     "text": [
      "confusion_matrix of whole data is:\n",
      "  [[ 48   0]\n",
      " [  2 145]]\n",
      "\n",
      "Classification Report of whole data is \n",
      "              precision    recall  f1-score   support\n",
      "\n",
      "           0       0.96      1.00      0.98        48\n",
      "           1       1.00      0.99      0.99       147\n",
      "\n",
      "    accuracy                           0.99       195\n",
      "   macro avg       0.98      0.99      0.99       195\n",
      "weighted avg       0.99      0.99      0.99       195\n",
      "\n"
     ]
    }
   ],
   "source": [
    "print(\"confusion_matrix of whole data is:\\n \", confusion_matrix(y, y_pred))\n",
    "print('\\nClassification Report of whole data is ')\n",
    "print(classification_report (y, y_pred))"
   ]
  },
  {
   "cell_type": "code",
   "execution_count": 286,
   "id": "a68f39f7",
   "metadata": {},
   "outputs": [
    {
     "name": "stdout",
     "output_type": "stream",
     "text": [
      "2 / 39\n",
      "KappaScore is:  0.8560885608856088\n"
     ]
    }
   ],
   "source": [
    "print((y_test != y_pred2).sum(),'/',((y_test == y_pred2).sum()+(y_test != y_pred2).sum()))\n",
    "print('KappaScore is: ', cohen_kappa_score(y_test,y_pred2))"
   ]
  },
  {
   "cell_type": "code",
   "execution_count": 287,
   "id": "6a070acb",
   "metadata": {},
   "outputs": [
    {
     "name": "stdout",
     "output_type": "stream",
     "text": [
      "AdaBoost Classifier : 0.871250 (0.063913)\n",
      "RandomForestClassifier : 0.889583 (0.082375)\n",
      "Extra Trees Classifier : 0.910000 (0.066123)\n"
     ]
    },
    {
     "data": {
      "image/png": "[encoded data removed]",
      "text/plain": [
       "<Figure size 640x480 with 1 Axes>"
      ]
     },
     "metadata": {},
     "output_type": "display_data"
    }
   ],
   "source": [
    "models=[]\n",
    "models.append(('AdaBoost Classifier',ab))\n",
    "models.append(('RandomForestClassifier',rf))\n",
    "models.append((\"Extra Trees Classifier\",et))\n",
    "\n",
    "from sklearn.model_selection import KFold\n",
    "from sklearn.model_selection import cross_val_score\n",
    "names=[]\n",
    "predictions=[]\n",
    "error='accuracy'\n",
    "for name,model in models:\n",
    "    fold=KFold(n_splits=10)\n",
    "    result=cross_val_score(model,x_train,y_train,cv=fold,scoring=error)\n",
    "    predictions.append(result)\n",
    "    names.append(name)\n",
    "    msg=\"%s : %f (%f)\"%(name,result.mean(),result.std())\n",
    "    print(msg)\n",
    "    \n",
    "fig=plt.figure()\n",
    "fig.suptitle(\"Comparing Ensembled Algorithms\")\n",
    "plt.boxplot(predictions)\n",
    "plt.show()"
   ]
  },
  {
   "cell_type": "code",
   "execution_count": 288,
   "id": "41eefb57",
   "metadata": {},
   "outputs": [],
   "source": [
    "y=data['status']\n",
    "cols=['MDVP:RAP','Jitter:DDP','DFA','NHR','MDVP:Fhi(Hz)','name','status']\n",
    "x=data.drop(cols,axis=1)"
   ]
  },
  {
   "cell_type": "code",
   "execution_count": 289,
   "id": "833a3912",
   "metadata": {},
   "outputs": [],
   "source": [
    "from sklearn.model_selection import train_test_split\n",
    "x_train,x_test,y_train,y_test=train_test_split(x,y,train_size=0.8,test_size=0.2,random_state=5)"
   ]
  },
  {
   "cell_type": "code",
   "execution_count": 290,
   "id": "90b4c64a",
   "metadata": {},
   "outputs": [
    {
     "name": "stdout",
     "output_type": "stream",
     "text": [
      "LogisticRegression : 0.859583 (0.114429)\n",
      "knn : 0.834167 (0.118714)\n",
      "SVC : 0.821667 (0.117951)\n",
      "decision_tree : 0.840000 (0.106771)\n",
      "Naive Bayes : 0.735833 (0.071715)\n"
     ]
    },
    {
     "data": {
      "image/png": "[encoded data removed]",
      "text/plain": [
       "<Figure size 640x480 with 1 Axes>"
      ]
     },
     "metadata": {},
     "output_type": "display_data"
    }
   ],
   "source": [
    "models=[]\n",
    "models.append(('LogisticRegression',LogisticRegression()))\n",
    "models.append(('knn',KNeighborsClassifier(n_neighbors=5)))\n",
    "models.append(('SVC',SVC()))\n",
    "models.append((\"decision_tree\",DecisionTreeClassifier()))\n",
    "models.append(('Naive Bayes',GaussianNB()))\n",
    "\n",
    "from sklearn.model_selection import KFold\n",
    "from sklearn.model_selection import cross_val_score\n",
    "names=[]\n",
    "predictions=[]\n",
    "error='accuracy'\n",
    "for name,model in models:\n",
    "    fold=KFold(n_splits=10)\n",
    "    result=cross_val_score(model,x_train,y_train,cv=fold,scoring=error)\n",
    "    predictions.append(result)\n",
    "    names.append(name)\n",
    "    msg=\"%s : %f (%f)\"%(name,result.mean(),result.std())\n",
    "    print(msg)\n",
    "    \n",
    "fig=plt.figure()\n",
    "fig.suptitle(\"Comparing Algorithms\")\n",
    "plt.boxplot(predictions)\n",
    "plt.show()"
   ]
  },
  {
   "cell_type": "code",
   "execution_count": 291,
   "id": "116c9fdb",
   "metadata": {},
   "outputs": [
    {
     "data": {
      "text/plain": [
       "array([[-0.82929965, -0.95203729,  0.33491386, ...,  0.48047686,\n",
       "        -0.21053082,  0.86888575],\n",
       "       [-0.77097169, -0.05772056,  0.71541825, ...,  1.31118546,\n",
       "         0.27507712,  1.80360503],\n",
       "       [-0.90947638, -0.10987483,  0.88499086, ...,  1.01768236,\n",
       "        -0.10362861,  1.40266141],\n",
       "       ...,\n",
       "       [ 0.49557839, -0.96839309,  1.52605805, ..., -0.81807931,\n",
       "         0.78033848, -0.83241014],\n",
       "       [ 1.07876114, -0.95417967,  0.24392368, ..., -0.22906571,\n",
       "        -0.63700298, -0.92610456],\n",
       "       [ 1.45481664, -0.88348115, -0.11383317, ..., -0.43085284,\n",
       "         0.45480231, -0.64505466]])"
      ]
     },
     "execution_count": 291,
     "metadata": {},
     "output_type": "execute_result"
    }
   ],
   "source": [
    "from sklearn.preprocessing import StandardScaler\n",
    "sc = StandardScaler()\n",
    "x = sc.fit_transform(x)\n",
    "x"
   ]
  },
  {
   "cell_type": "code",
   "execution_count": 292,
   "id": "564bba74",
   "metadata": {},
   "outputs": [
    {
     "name": "stdout",
     "output_type": "stream",
     "text": [
      "LogisticRegression : 0.859583 (0.114429)\n",
      "knn : 0.834167 (0.118714)\n",
      "SVC : 0.821667 (0.117951)\n",
      "decision_tree : 0.833333 (0.111539)\n",
      "Naive Bayes : 0.735833 (0.071715)\n"
     ]
    },
    {
     "data": {
      "image/png": "[encoded data removed]",
      "text/plain": [
       "<Figure size 640x480 with 1 Axes>"
      ]
     },
     "metadata": {},
     "output_type": "display_data"
    }
   ],
   "source": [
    "models=[]\n",
    "models.append(('LogisticRegression',LogisticRegression()))\n",
    "models.append(('knn',KNeighborsClassifier(n_neighbors=5)))\n",
    "models.append(('SVC',SVC()))\n",
    "models.append((\"decision_tree\",DecisionTreeClassifier()))\n",
    "models.append(('Naive Bayes',GaussianNB()))\n",
    "\n",
    "from sklearn.model_selection import KFold\n",
    "from sklearn.model_selection import cross_val_score\n",
    "names=[]\n",
    "predictions=[]\n",
    "error='accuracy'\n",
    "for name,model in models:\n",
    "    fold=KFold(n_splits=10)\n",
    "    result=cross_val_score(model,x_train,y_train,cv=fold,scoring=error)\n",
    "    predictions.append(result)\n",
    "    names.append(name)\n",
    "    msg=\"%s : %f (%f)\"%(name,result.mean(),result.std())\n",
    "    print(msg)\n",
    "    \n",
    "fig=plt.figure()\n",
    "fig.suptitle(\"Comparing Algorithms\")\n",
    "plt.boxplot(predictions)\n",
    "plt.show()"
   ]
  },
  {
   "cell_type": "code",
   "execution_count": 293,
   "id": "2ef3d21e",
   "metadata": {},
   "outputs": [
    {
     "name": "stdout",
     "output_type": "stream",
     "text": [
      "AB : 0.854167 (0.073409)\n",
      "rf : 0.903750 (0.067789)\n",
      "ETC : 0.885833 (0.078400)\n"
     ]
    },
    {
     "data": {
      "image/png": "[encoded data removed]",
      "text/plain": [
       "<Figure size 640x480 with 1 Axes>"
      ]
     },
     "metadata": {},
     "output_type": "display_data"
    }
   ],
   "source": [
    "from sklearn.ensemble import AdaBoostClassifier\n",
    "from sklearn.ensemble import RandomForestClassifier\n",
    "from sklearn.ensemble import ExtraTreesClassifier\n",
    "ensembles=[]\n",
    "ensembles.append(('AB',AdaBoostClassifier()))\n",
    "ensembles.append(('rf',RandomForestClassifier(n_estimators=10)))\n",
    "ensembles.append(('ETC',ExtraTreesClassifier(n_estimators=10)))\n",
    "from sklearn.model_selection import KFold\n",
    "from sklearn.model_selection import cross_val_score\n",
    "names=[]\n",
    "predictions=[]\n",
    "error='accuracy'\n",
    "for name,model in ensembles:\n",
    "    fold=KFold(n_splits=10)\n",
    "    result=cross_val_score(model,x_train,y_train,cv=fold,scoring=error)\n",
    "    predictions.append(result)\n",
    "    names.append(name)\n",
    "    msg=\"%s : %f (%f)\"%(name,result.mean(),result.std())\n",
    "    print(msg)\n",
    "    \n",
    "fig=plt.figure()\n",
    "fig.suptitle(\"Comparing Ensembled Algorithms\")\n",
    "plt.boxplot(predictions)\n",
    "plt.show()"
   ]
  },
  {
   "cell_type": "code",
   "execution_count": 294,
   "id": "415bd136",
   "metadata": {},
   "outputs": [],
   "source": [
    "# Best 4 classification and ensembled algorithms are :-\n",
    "# 1. Logistic Regression\n",
    "# 2. Decision Trees Classifier\n",
    "# 3. Support Vector Machines\n",
    "# 4. Extra Trees Classifier\n",
    "# Out Of which, best Algorithm is Support Vector Machines"
   ]
  },
  {
   "cell_type": "code",
   "execution_count": 295,
   "id": "fcfd70c6",
   "metadata": {},
   "outputs": [
    {
     "name": "stdout",
     "output_type": "stream",
     "text": [
      "[1 1 1 1 1 0 1 0 1 1 1 1 1 1 0 1 1 1 1 1 1 1 1 1 0 1 1 1 0 1 1 1 1 1 1 1 1\n",
      " 1 1 1 1 1 1 1 1 1 1 1 1 1 1 1 1 1 1 1 1 0 1 1 1 1 1 1 1 1 0 0 1 0 0 1 1 1\n",
      " 0 0 0 1 1 1 1 1 1 1 1 1 0 1 1 1 1 1 1 1 1 0 1 1 1 1 1 0 1 1 1 1 0 1 1 1 1\n",
      " 1 1 1 1 1 1 1 0 1 1 1 1 0 1 0 0 0 0 1 1 1 1 1 1 0 1 1 1 1 1 1 1 1 1 1 1 1\n",
      " 1 1 1 1 1 0 1 1]\n",
      "[1 1 1 1 1 0 1 0 1 1 1 0 1 1 0 1 1 1 0 1 1 0 0 1 0 1 1 1 0 1 1 0 0 1 1 1 1\n",
      " 1 1 1 1 1 1 1 1 1 1 1 1 1 1 0 1 1 1 1 1 0 1 1 1 1 1 1 1 1 0 0 1 0 0 1 1 1\n",
      " 0 0 0 1 1 1 1 1 1 1 0 0 0 1 1 1 1 1 1 1 1 0 1 1 1 0 0 0 1 1 1 1 0 1 1 1 1\n",
      " 1 0 1 1 1 1 0 1 1 1 1 1 0 1 0 0 0 0 1 1 0 1 1 1 1 1 1 1 1 1 0 1 1 1 1 1 1\n",
      " 1 1 1 0 0 0 1 1]\n",
      "Model accuracy on train is:  0.8782051282051282\n",
      "**************************************************\n",
      "[1 1 1 0 1 1 1 1 1 0 1 1 1 1 1 1 1 1 1 1 1 0 1 1 1 1 1 1 1 1 0 0 0 1 1 1 1\n",
      " 1 1]\n",
      "[1 1 1 0 1 0 1 1 1 0 1 1 0 1 1 1 1 1 1 1 1 1 1 1 0 1 1 1 1 1 0 0 0 1 1 1 1\n",
      " 1 1]\n",
      "Model accuracy on test is:  0.8974358974358975\n",
      "**************************************************\n",
      "[1 1 1 1 1 1 1 1 1 1 1 1 1 1 1 1 1 1 1 1 1 1 1 1 1 1 1 1 0 1 0 0 0 0 0 0 1\n",
      " 1 1 1 1 0 0 0 0 0 0 0 1 1 1 1 1 1 1 1 1 1 1 1 0 0 0 0 0 0 1 1 1 1 1 1 1 1\n",
      " 1 1 1 1 1 1 1 1 1 1 1 1 1 1 1 1 1 1 1 1 1 1 1 1 1 1 1 1 1 1 0 1 1 1 1 1 1\n",
      " 1 1 1 1 1 1 1 1 1 1 1 1 1 1 1 1 1 1 1 1 1 1 1 1 1 1 1 1 1 1 1 1 1 1 1 1 1\n",
      " 1 1 1 1 1 1 1 1 1 1 1 1 1 1 1 1 1 0 0 0 1 0 0 1 1 1 1 1 1 1 1 1 1 1 1 1 1\n",
      " 1 0 0 1 0 1 1 0 0 1]\n",
      "[1 1 1 1 1 1 1 1 1 1 1 1 1 1 1 1 1 1 1 1 1 1 1 1 1 1 1 1 0 1 0 0 0 0 0 0 1\n",
      " 1 1 1 1 0 0 0 0 0 0 0 1 1 1 1 1 1 1 1 1 1 1 1 0 0 0 0 0 0 1 1 1 1 1 1 1 1\n",
      " 1 1 1 1 1 1 1 1 1 1 1 1 1 1 1 1 1 1 1 1 1 1 1 1 1 1 1 1 1 1 0 1 1 1 1 1 1\n",
      " 1 1 1 1 1 1 1 1 1 1 1 1 1 1 1 1 1 1 1 1 1 1 1 1 1 1 1 1 1 1 1 1 1 1 1 1 1\n",
      " 1 1 1 1 1 1 1 1 1 1 1 1 1 1 1 1 1 0 0 0 1 0 0 1 1 1 1 1 1 1 1 1 1 1 1 1 1\n",
      " 1 0 0 1 0 1 1 0 0 1]\n",
      "Model accuracy on whole data is:  0.882051282051282\n"
     ]
    }
   ],
   "source": [
    "x=data.drop(labels=['name','status'],axis=1)\n",
    "y=data['status']\n",
    "x_train,x_test,y_train,y_test=train_test_split(x,y,test_size=0.2,random_state=40)\n",
    "SVM = SVC(kernel='linear')\n",
    "SVM.fit(x_train, y_train) \n",
    "y_pred1 = SVM.predict(x_train)\n",
    "print(y_pred1)\n",
    "print(y_train.values)\n",
    "print(\"Model accuracy on train is: \", accuracy_score(y_train, y_pred1))\n",
    "print('*'*50)\n",
    "y_pred2 = SVM.predict(x_test)\n",
    "print(y_pred2)\n",
    "print(y_test.values)\n",
    "print(\"Model accuracy on test is: \", accuracy_score(y_test, y_pred2))\n",
    "print('*'*50)\n",
    "y_pred = SVM.predict(x)\n",
    "print(y_pred)\n",
    "print(y_pred)\n",
    "print(\"Model accuracy on whole data is: \", accuracy_score(y, y_pred))"
   ]
  },
  {
   "cell_type": "code",
   "execution_count": 296,
   "id": "6359854a",
   "metadata": {},
   "outputs": [
    {
     "data": {
      "text/html": [
       "<div>\n",
       "<style scoped>\n",
       "    .dataframe tbody tr th:only-of-type {\n",
       "        vertical-align: middle;\n",
       "    }\n",
       "\n",
       "    .dataframe tbody tr th {\n",
       "        vertical-align: top;\n",
       "    }\n",
       "\n",
       "    .dataframe thead th {\n",
       "        text-align: right;\n",
       "    }\n",
       "</style>\n",
       "<table border=\"1\" class=\"dataframe\">\n",
       "  <thead>\n",
       "    <tr style=\"text-align: right;\">\n",
       "      <th></th>\n",
       "      <th>name</th>\n",
       "      <th>MDVP:Fo(Hz)</th>\n",
       "      <th>MDVP:Fhi(Hz)</th>\n",
       "      <th>MDVP:Flo(Hz)</th>\n",
       "      <th>MDVP:Jitter(%)</th>\n",
       "      <th>MDVP:Jitter(Abs)</th>\n",
       "      <th>MDVP:RAP</th>\n",
       "      <th>MDVP:PPQ</th>\n",
       "      <th>Jitter:DDP</th>\n",
       "      <th>MDVP:Shimmer</th>\n",
       "      <th>...</th>\n",
       "      <th>NHR</th>\n",
       "      <th>HNR</th>\n",
       "      <th>status</th>\n",
       "      <th>RPDE</th>\n",
       "      <th>DFA</th>\n",
       "      <th>spread1</th>\n",
       "      <th>spread2</th>\n",
       "      <th>D2</th>\n",
       "      <th>PPE</th>\n",
       "      <th>Predicted</th>\n",
       "    </tr>\n",
       "  </thead>\n",
       "  <tbody>\n",
       "    <tr>\n",
       "      <th>0</th>\n",
       "      <td>phon_R01_S01_1</td>\n",
       "      <td>119.992</td>\n",
       "      <td>157.302</td>\n",
       "      <td>74.997</td>\n",
       "      <td>0.00784</td>\n",
       "      <td>0.00007</td>\n",
       "      <td>0.00370</td>\n",
       "      <td>0.00554</td>\n",
       "      <td>0.01109</td>\n",
       "      <td>0.04374</td>\n",
       "      <td>...</td>\n",
       "      <td>0.02211</td>\n",
       "      <td>21.033</td>\n",
       "      <td>1</td>\n",
       "      <td>0.414783</td>\n",
       "      <td>0.815285</td>\n",
       "      <td>-4.813031</td>\n",
       "      <td>0.266482</td>\n",
       "      <td>2.301442</td>\n",
       "      <td>0.284654</td>\n",
       "      <td>1</td>\n",
       "    </tr>\n",
       "    <tr>\n",
       "      <th>1</th>\n",
       "      <td>phon_R01_S01_2</td>\n",
       "      <td>122.400</td>\n",
       "      <td>148.650</td>\n",
       "      <td>113.819</td>\n",
       "      <td>0.00968</td>\n",
       "      <td>0.00008</td>\n",
       "      <td>0.00465</td>\n",
       "      <td>0.00696</td>\n",
       "      <td>0.01394</td>\n",
       "      <td>0.06134</td>\n",
       "      <td>...</td>\n",
       "      <td>0.01929</td>\n",
       "      <td>19.085</td>\n",
       "      <td>1</td>\n",
       "      <td>0.458359</td>\n",
       "      <td>0.819521</td>\n",
       "      <td>-4.075192</td>\n",
       "      <td>0.335590</td>\n",
       "      <td>2.486855</td>\n",
       "      <td>0.368674</td>\n",
       "      <td>1</td>\n",
       "    </tr>\n",
       "    <tr>\n",
       "      <th>2</th>\n",
       "      <td>phon_R01_S01_3</td>\n",
       "      <td>116.682</td>\n",
       "      <td>131.111</td>\n",
       "      <td>111.555</td>\n",
       "      <td>0.01050</td>\n",
       "      <td>0.00009</td>\n",
       "      <td>0.00544</td>\n",
       "      <td>0.00781</td>\n",
       "      <td>0.01633</td>\n",
       "      <td>0.05233</td>\n",
       "      <td>...</td>\n",
       "      <td>0.01309</td>\n",
       "      <td>20.651</td>\n",
       "      <td>1</td>\n",
       "      <td>0.429895</td>\n",
       "      <td>0.825288</td>\n",
       "      <td>-4.443179</td>\n",
       "      <td>0.311173</td>\n",
       "      <td>2.342259</td>\n",
       "      <td>0.332634</td>\n",
       "      <td>1</td>\n",
       "    </tr>\n",
       "    <tr>\n",
       "      <th>3</th>\n",
       "      <td>phon_R01_S01_4</td>\n",
       "      <td>116.676</td>\n",
       "      <td>137.871</td>\n",
       "      <td>111.366</td>\n",
       "      <td>0.00997</td>\n",
       "      <td>0.00009</td>\n",
       "      <td>0.00502</td>\n",
       "      <td>0.00698</td>\n",
       "      <td>0.01505</td>\n",
       "      <td>0.05492</td>\n",
       "      <td>...</td>\n",
       "      <td>0.01353</td>\n",
       "      <td>20.644</td>\n",
       "      <td>1</td>\n",
       "      <td>0.434969</td>\n",
       "      <td>0.819235</td>\n",
       "      <td>-4.117501</td>\n",
       "      <td>0.334147</td>\n",
       "      <td>2.405554</td>\n",
       "      <td>0.368975</td>\n",
       "      <td>1</td>\n",
       "    </tr>\n",
       "    <tr>\n",
       "      <th>4</th>\n",
       "      <td>phon_R01_S01_5</td>\n",
       "      <td>116.014</td>\n",
       "      <td>141.781</td>\n",
       "      <td>110.655</td>\n",
       "      <td>0.01284</td>\n",
       "      <td>0.00011</td>\n",
       "      <td>0.00655</td>\n",
       "      <td>0.00908</td>\n",
       "      <td>0.01966</td>\n",
       "      <td>0.06425</td>\n",
       "      <td>...</td>\n",
       "      <td>0.01767</td>\n",
       "      <td>19.649</td>\n",
       "      <td>1</td>\n",
       "      <td>0.417356</td>\n",
       "      <td>0.823484</td>\n",
       "      <td>-3.747787</td>\n",
       "      <td>0.234513</td>\n",
       "      <td>2.332180</td>\n",
       "      <td>0.410335</td>\n",
       "      <td>1</td>\n",
       "    </tr>\n",
       "  </tbody>\n",
       "</table>\n",
       "<p>5 rows × 25 columns</p>\n",
       "</div>"
      ],
      "text/plain": [
       "             name  MDVP:Fo(Hz)  MDVP:Fhi(Hz)  MDVP:Flo(Hz)  MDVP:Jitter(%)  \\\n",
       "0  phon_R01_S01_1      119.992       157.302        74.997         0.00784   \n",
       "1  phon_R01_S01_2      122.400       148.650       113.819         0.00968   \n",
       "2  phon_R01_S01_3      116.682       131.111       111.555         0.01050   \n",
       "3  phon_R01_S01_4      116.676       137.871       111.366         0.00997   \n",
       "4  phon_R01_S01_5      116.014       141.781       110.655         0.01284   \n",
       "\n",
       "   MDVP:Jitter(Abs)  MDVP:RAP  MDVP:PPQ  Jitter:DDP  MDVP:Shimmer  ...  \\\n",
       "0           0.00007   0.00370   0.00554     0.01109       0.04374  ...   \n",
       "1           0.00008   0.00465   0.00696     0.01394       0.06134  ...   \n",
       "2           0.00009   0.00544   0.00781     0.01633       0.05233  ...   \n",
       "3           0.00009   0.00502   0.00698     0.01505       0.05492  ...   \n",
       "4           0.00011   0.00655   0.00908     0.01966       0.06425  ...   \n",
       "\n",
       "       NHR     HNR  status      RPDE       DFA   spread1   spread2        D2  \\\n",
       "0  0.02211  21.033       1  0.414783  0.815285 -4.813031  0.266482  2.301442   \n",
       "1  0.01929  19.085       1  0.458359  0.819521 -4.075192  0.335590  2.486855   \n",
       "2  0.01309  20.651       1  0.429895  0.825288 -4.443179  0.311173  2.342259   \n",
       "3  0.01353  20.644       1  0.434969  0.819235 -4.117501  0.334147  2.405554   \n",
       "4  0.01767  19.649       1  0.417356  0.823484 -3.747787  0.234513  2.332180   \n",
       "\n",
       "        PPE  Predicted  \n",
       "0  0.284654          1  \n",
       "1  0.368674          1  \n",
       "2  0.332634          1  \n",
       "3  0.368975          1  \n",
       "4  0.410335          1  \n",
       "\n",
       "[5 rows x 25 columns]"
      ]
     },
     "execution_count": 296,
     "metadata": {},
     "output_type": "execute_result"
    }
   ],
   "source": [
    "result = pd.concat([data,pd.DataFrame(y_pred,columns=['Predicted'])],axis = 1)\n",
    "result.head()"
   ]
  },
  {
   "cell_type": "code",
   "execution_count": 298,
   "id": "82514739",
   "metadata": {},
   "outputs": [],
   "source": [
    "result.to_csv('ParkinsonDiseasePredictedValue.csv')"
   ]
  }
 ],
 "metadata": {
  "kernelspec": {
   "display_name": "Python 3 (ipykernel)",
   "language": "python",
   "name": "python3"
  },
  "language_info": {
   "codemirror_mode": {
    "name": "ipython",
    "version": 3
   },
   "file_extension": ".py",
   "mimetype": "text/x-python",
   "name": "python",
   "nbconvert_exporter": "python",
   "pygments_lexer": "ipython3",
   "version": "3.9.13"
  }
 },
 "nbformat": 4,
 "nbformat_minor": 5
}
